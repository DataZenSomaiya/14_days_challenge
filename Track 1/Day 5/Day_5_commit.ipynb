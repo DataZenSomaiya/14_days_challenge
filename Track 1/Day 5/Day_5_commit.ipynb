{
 "cells": [
  {
   "cell_type": "code",
   "execution_count": 2,
   "id": "6ba49823",
   "metadata": {},
   "outputs": [],
   "source": [
    "import numpy as np\n"
   ]
  },
  {
   "cell_type": "code",
   "execution_count": 3,
   "id": "b7d38961",
   "metadata": {},
   "outputs": [
    {
     "name": "stdout",
     "output_type": "stream",
     "text": [
      "[[9.  8.  7.  5.  9. ]\n",
      " [6.  5.  4.  7.8 6.9]]\n",
      "[list([9.0, 8.0, 7.0, 5.0, 9.0, 4.0, 3.2, 7.9]) list([6.0, 5.0, 4.0])]\n"
     ]
    }
   ],
   "source": [
    "arr1 = np.array([[9.0,8.0,7.0,5.0,9.0],[6.0,5.0,4.0,7.8,6.9]])\n",
    "print(arr1)\n",
    "\n",
    "arr2 = np.array([[9.0,8.0,7.0,5.0,9.0,4.0,3.2,7.9],[6.0,5.0,4.0]], dtype =object)\n",
    "print(arr2)"
   ]
  },
  {
   "cell_type": "code",
   "execution_count": 5,
   "id": "3c82fec9",
   "metadata": {},
   "outputs": [
    {
     "name": "stdout",
     "output_type": "stream",
     "text": [
      "Dimension of Array 1- 2\n",
      "Dimension of Array 2- 1\n",
      "Shape of Array 1- (2, 5)\n",
      "Shape of Array 2- (2,)\n",
      "Type of Array 1- float64\n",
      "Type of Array 2- object\n",
      "Size:  8\n",
      "Number of elements:  10\n"
     ]
    }
   ],
   "source": [
    "print('Dimension of Array 1-',arr1.ndim)\n",
    "print('Dimension of Array 2-',arr2.ndim)\n",
    "\n",
    "print('Shape of Array 1-',arr1.shape)\n",
    "print('Shape of Array 2-',arr2.shape)\n",
    "\n",
    "\n",
    "print('Type of Array 1-',arr1.dtype)\n",
    "print('Type of Array 2-',arr2.dtype)\n",
    "\n",
    "\n",
    "print('Size: ',arr1.itemsize)\n",
    "\n",
    "\n",
    "print('Number of elements: ',arr1.size)"
   ]
  },
  {
   "cell_type": "code",
   "execution_count": 6,
   "id": "9495d5f3",
   "metadata": {},
   "outputs": [
    {
     "name": "stdout",
     "output_type": "stream",
     "text": [
      "7.0\n",
      "[9. 8. 7. 5. 9.]\n",
      "[7. 4.]\n",
      "[8. 5.]\n"
     ]
    }
   ],
   "source": [
    "print(arr1[0, 2])\n",
    "\n",
    "# Get a specific row \n",
    "print(arr1[0, :])\n",
    "\n",
    "# Get a specific column\n",
    "print(arr1[:, 2])\n",
    "\n",
    "# Getting a little more fancy [startindex:endindex:stepsize]\n",
    "print(arr1[0, 1:-1:2])"
   ]
  },
  {
   "cell_type": "code",
   "execution_count": 7,
   "id": "20abff13",
   "metadata": {},
   "outputs": [
    {
     "name": "stdout",
     "output_type": "stream",
     "text": [
      "[[0. 0. 0.]\n",
      " [0. 0. 0.]]\n",
      "*************************\n",
      "[[[1 1]\n",
      "  [1 1]]\n",
      "\n",
      " [[1 1]\n",
      "  [1 1]]\n",
      "\n",
      " [[1 1]\n",
      "  [1 1]]\n",
      "\n",
      " [[1 1]\n",
      "  [1 1]]]\n",
      "*************************\n",
      "[[[99 99]\n",
      "  [99 99]\n",
      "  [99 99]]\n",
      "\n",
      " [[99 99]\n",
      "  [99 99]\n",
      "  [99 99]]]\n",
      "*************************\n"
     ]
    }
   ],
   "source": [
    "print(np.zeros((2,3)))\n",
    "print('*'*25)\n",
    "# All 1s matrix\n",
    "print(np.ones((4,2,2), dtype='int32'))\n",
    "print('*'*25)\n",
    "\n",
    "# Any other number\n",
    "print(np.full((2,3,2), 99, dtype='int32'))\n",
    "print('*'*25)"
   ]
  },
  {
   "cell_type": "code",
   "execution_count": 9,
   "id": "e7a5cffd",
   "metadata": {},
   "outputs": [
    {
     "name": "stdout",
     "output_type": "stream",
     "text": [
      "[[0.15501174 0.04929949]\n",
      " [0.12504213 0.30891565]\n",
      " [0.25386764 0.98039511]\n",
      " [0.52291185 0.14020221]]\n",
      "[[ 0  1  7]\n",
      " [-1 -1  4]\n",
      " [ 5 -1 -3]]\n",
      "[[1. 0. 0. 0. 0.]\n",
      " [0. 1. 0. 0. 0.]\n",
      " [0. 0. 1. 0. 0.]\n",
      " [0. 0. 0. 1. 0.]\n",
      " [0. 0. 0. 0. 1.]]\n"
     ]
    }
   ],
   "source": [
    "print(np.random.rand(4,2))\n",
    "\n",
    "# Random Integer values\n",
    "print(np.random.randint(-4,8, size=(3,3)))\n",
    "\n",
    "# The identity matrix\n",
    "print(np.identity(5))"
   ]
  },
  {
   "cell_type": "code",
   "execution_count": null,
   "id": "111186d6",
   "metadata": {},
   "outputs": [],
   "source": []
  }
 ],
 "metadata": {
  "kernelspec": {
   "display_name": "Python 3 (ipykernel)",
   "language": "python",
   "name": "python3"
  },
  "language_info": {
   "codemirror_mode": {
    "name": "ipython",
    "version": 3
   },
   "file_extension": ".py",
   "mimetype": "text/x-python",
   "name": "python",
   "nbconvert_exporter": "python",
   "pygments_lexer": "ipython3",
   "version": "3.10.6"
  }
 },
 "nbformat": 4,
 "nbformat_minor": 5
}
