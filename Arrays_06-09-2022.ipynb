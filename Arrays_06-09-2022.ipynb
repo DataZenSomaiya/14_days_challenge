{
 "cells": [
  {
   "cell_type": "code",
   "execution_count": 1,
   "id": "174f7919",
   "metadata": {},
   "outputs": [],
   "source": [
    "import numpy as np"
   ]
  },
  {
   "cell_type": "code",
   "execution_count": 6,
   "id": "bc755d94",
   "metadata": {},
   "outputs": [
    {
     "data": {
      "text/plain": [
       "array([1, 2, 3])"
      ]
     },
     "execution_count": 6,
     "metadata": {},
     "output_type": "execute_result"
    }
   ],
   "source": [
    "a = np.array([1,2,3])\n",
    "a"
   ]
  },
  {
   "cell_type": "code",
   "execution_count": 5,
   "id": "c79cb491",
   "metadata": {},
   "outputs": [
    {
     "data": {
      "text/plain": [
       "1"
      ]
     },
     "execution_count": 5,
     "metadata": {},
     "output_type": "execute_result"
    }
   ],
   "source": [
    "# get dimension\n",
    "a.ndim"
   ]
  },
  {
   "cell_type": "code",
   "execution_count": 14,
   "id": "77f46cb9",
   "metadata": {},
   "outputs": [
    {
     "data": {
      "text/plain": [
       "array([[1, 2, 3, 8, 9],\n",
       "       [4, 5, 6, 0, 3]])"
      ]
     },
     "execution_count": 14,
     "metadata": {},
     "output_type": "execute_result"
    }
   ],
   "source": [
    "b = np.array([[1,2,3,8,9],[4,5,6,0,3]])\n",
    "b"
   ]
  },
  {
   "cell_type": "code",
   "execution_count": 9,
   "id": "69f96a71",
   "metadata": {},
   "outputs": [
    {
     "data": {
      "text/plain": [
       "(3,)"
      ]
     },
     "execution_count": 9,
     "metadata": {},
     "output_type": "execute_result"
    }
   ],
   "source": [
    "# get shape\n",
    "a.shape"
   ]
  },
  {
   "cell_type": "code",
   "execution_count": 10,
   "id": "db632843",
   "metadata": {},
   "outputs": [
    {
     "data": {
      "text/plain": [
       "(2, 3)"
      ]
     },
     "execution_count": 10,
     "metadata": {},
     "output_type": "execute_result"
    }
   ],
   "source": [
    "#get shape\n",
    "b.shape"
   ]
  },
  {
   "cell_type": "code",
   "execution_count": 11,
   "id": "a24e896e",
   "metadata": {},
   "outputs": [
    {
     "data": {
      "text/plain": [
       "dtype('int32')"
      ]
     },
     "execution_count": 11,
     "metadata": {},
     "output_type": "execute_result"
    }
   ],
   "source": [
    "# get type\n",
    "a.dtype"
   ]
  },
  {
   "cell_type": "code",
   "execution_count": 16,
   "id": "b121ccc0",
   "metadata": {},
   "outputs": [
    {
     "data": {
      "text/plain": [
       "4"
      ]
     },
     "execution_count": 16,
     "metadata": {},
     "output_type": "execute_result"
    }
   ],
   "source": [
    "# get item size\n",
    "a.itemsize"
   ]
  },
  {
   "cell_type": "code",
   "execution_count": 15,
   "id": "d48b808d",
   "metadata": {},
   "outputs": [
    {
     "data": {
      "text/plain": [
       "10"
      ]
     },
     "execution_count": 15,
     "metadata": {},
     "output_type": "execute_result"
    }
   ],
   "source": [
    "#get number of elements\n",
    "b.size"
   ]
  },
  {
   "cell_type": "code",
   "execution_count": 17,
   "id": "89a3275b",
   "metadata": {},
   "outputs": [
    {
     "name": "stdout",
     "output_type": "stream",
     "text": [
      "8\n"
     ]
    }
   ],
   "source": [
    "# get specific element[r,c]\n",
    "print(b[0,3])"
   ]
  },
  {
   "cell_type": "code",
   "execution_count": 18,
   "id": "9f554b1f",
   "metadata": {},
   "outputs": [
    {
     "name": "stdout",
     "output_type": "stream",
     "text": [
      "[1 2 3 8 9]\n"
     ]
    }
   ],
   "source": [
    "# get specific row \n",
    "print(b[0,:])"
   ]
  },
  {
   "cell_type": "code",
   "execution_count": 19,
   "id": "70389548",
   "metadata": {},
   "outputs": [
    {
     "name": "stdout",
     "output_type": "stream",
     "text": [
      "[2 5]\n"
     ]
    }
   ],
   "source": [
    "#get specific column\n",
    "print(b[:,1])"
   ]
  },
  {
   "cell_type": "code",
   "execution_count": 23,
   "id": "ac39288f",
   "metadata": {},
   "outputs": [
    {
     "name": "stdout",
     "output_type": "stream",
     "text": [
      "[2 3 8]\n"
     ]
    }
   ],
   "source": [
    "#get [startindex:endindex:stepsize]\n",
    "print(b[0,1:-1:1])"
   ]
  },
  {
   "cell_type": "code",
   "execution_count": 24,
   "id": "7977307b",
   "metadata": {},
   "outputs": [
    {
     "name": "stdout",
     "output_type": "stream",
     "text": [
      "[[0. 0. 0.]\n",
      " [0. 0. 0.]\n",
      " [0. 0. 0.]]\n",
      "********************\n",
      "[[[1 1]\n",
      "  [1 1]]\n",
      "\n",
      " [[1 1]\n",
      "  [1 1]]\n",
      "\n",
      " [[1 1]\n",
      "  [1 1]]]\n",
      "********************\n",
      "[[[69 69 69]\n",
      "  [69 69 69]\n",
      "  [69 69 69]]\n",
      "\n",
      " [[69 69 69]\n",
      "  [69 69 69]\n",
      "  [69 69 69]]]\n",
      "********************\n"
     ]
    }
   ],
   "source": [
    "# All 0s matrix\n",
    "print(np.zeros((3,3)))\n",
    "print('*'*20)\n",
    "\n",
    "# All 1s matrix\n",
    "print(np.ones((3,2,2), dtype='int32'))\n",
    "print('*'*20)\n",
    "\n",
    "# Any other number\n",
    "print(np.full((2,3,3), 69, dtype='int32'))\n",
    "print('*'*20)"
   ]
  },
  {
   "cell_type": "code",
   "execution_count": 26,
   "id": "503a3616",
   "metadata": {},
   "outputs": [
    {
     "name": "stdout",
     "output_type": "stream",
     "text": [
      "[[0.38345278 0.58440008]\n",
      " [0.81830271 0.16519224]\n",
      " [0.72381549 0.69795138]\n",
      " [0.21519747 0.30390329]\n",
      " [0.76839266 0.95866161]]\n",
      "[[ 5  1  6]\n",
      " [-3  1  1]\n",
      " [ 2 -3 -3]]\n",
      "[[1. 0. 0. 0.]\n",
      " [0. 1. 0. 0.]\n",
      " [0. 0. 1. 0.]\n",
      " [0. 0. 0. 1.]]\n"
     ]
    }
   ],
   "source": [
    "# Random decimal numbers\n",
    "print(np.random.rand(5,2))\n",
    "\n",
    "# Random Integer values\n",
    "print(np.random.randint(-5,8, size=(3,3)))\n",
    "\n",
    "# The identity matrix\n",
    "print(np.identity(4))"
   ]
  },
  {
   "cell_type": "code",
   "execution_count": null,
   "id": "ecb6846f",
   "metadata": {},
   "outputs": [],
   "source": []
  }
 ],
 "metadata": {
  "kernelspec": {
   "display_name": "Python 3 (ipykernel)",
   "language": "python",
   "name": "python3"
  },
  "language_info": {
   "codemirror_mode": {
    "name": "ipython",
    "version": 3
   },
   "file_extension": ".py",
   "mimetype": "text/x-python",
   "name": "python",
   "nbconvert_exporter": "python",
   "pygments_lexer": "ipython3",
   "version": "3.10.6"
  }
 },
 "nbformat": 4,
 "nbformat_minor": 5
}
