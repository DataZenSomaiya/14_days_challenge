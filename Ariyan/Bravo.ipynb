{
 "cells": [
  {
   "cell_type": "code",
   "execution_count": 28,
   "id": "2ca5a885",
   "metadata": {},
   "outputs": [],
   "source": [
    "import requests\n",
    "import bs4"
   ]
  },
  {
   "cell_type": "code",
   "execution_count": 29,
   "id": "6a5d834e",
   "metadata": {},
   "outputs": [],
   "source": [
    "from bs4 import BeautifulSoup"
   ]
  },
  {
   "cell_type": "raw",
   "id": "6513bec2",
   "metadata": {},
   "source": []
  },
  {
   "cell_type": "code",
   "execution_count": 38,
   "id": "eefef7a9",
   "metadata": {},
   "outputs": [],
   "source": [
    "results = requests.get(\"https://economictimes.indiatimes.com/news\")"
   ]
  },
  {
   "cell_type": "code",
   "execution_count": 40,
   "id": "2799cafb",
   "metadata": {},
   "outputs": [],
   "source": [
    "src = results.content"
   ]
  },
  {
   "cell_type": "code",
   "execution_count": 41,
   "id": "50861b3d",
   "metadata": {},
   "outputs": [],
   "source": [
    "soup = BeautifulSoup(src, 'lxml')"
   ]
  },
  {
   "cell_type": "code",
   "execution_count": null,
   "id": "3ea34d4e",
   "metadata": {},
   "outputs": [],
   "source": []
  },
  {
   "cell_type": "code",
   "execution_count": 58,
   "id": "48a31681",
   "metadata": {},
   "outputs": [],
   "source": [
    "links = soup.find_all('article')[6]. find_all('a')"
   ]
  },
  {
   "cell_type": "code",
   "execution_count": 59,
   "id": "cf155e9e",
   "metadata": {},
   "outputs": [
    {
     "name": "stdout",
     "output_type": "stream",
     "text": [
      "[<a data-ga-onclick=\"7 - href\" data-orefid=\"p4_7\" href=\"/news/sports/view-olympic-and-diamond-league-champion-neeraj-chopra-wants-more/articleshow/94123134.cms\" itemprop=\"url\"><meta content=\"View: Olympic and Diamond League champion Neeraj Chopra wants more\" itemprop=\"name\"/><stname>View: Olympic and Diamond League champion Neeraj Chopra wants more</stname></a>]\n"
     ]
    }
   ],
   "source": [
    "print(links)"
   ]
  },
  {
   "cell_type": "code",
   "execution_count": null,
   "id": "3599677b",
   "metadata": {},
   "outputs": [],
   "source": []
  },
  {
   "cell_type": "code",
   "execution_count": null,
   "id": "af1aa82f",
   "metadata": {},
   "outputs": [],
   "source": []
  },
  {
   "cell_type": "code",
   "execution_count": null,
   "id": "d7611ae7",
   "metadata": {},
   "outputs": [],
   "source": []
  },
  {
   "cell_type": "code",
   "execution_count": null,
   "id": "6152bcd6",
   "metadata": {},
   "outputs": [],
   "source": []
  }
 ],
 "metadata": {
  "kernelspec": {
   "display_name": "Python 3 (ipykernel)",
   "language": "python",
   "name": "python3"
  },
  "language_info": {
   "codemirror_mode": {
    "name": "ipython",
    "version": 3
   },
   "file_extension": ".py",
   "mimetype": "text/x-python",
   "name": "python",
   "nbconvert_exporter": "python",
   "pygments_lexer": "ipython3",
   "version": "3.10.6"
  }
 },
 "nbformat": 4,
 "nbformat_minor": 5
}
