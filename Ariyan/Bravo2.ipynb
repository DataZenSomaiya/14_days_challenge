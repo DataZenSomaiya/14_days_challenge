{
 "cells": [
  {
   "cell_type": "code",
   "execution_count": 1,
   "id": "fcd9e14b",
   "metadata": {},
   "outputs": [],
   "source": [
    "import requests\n",
    "import bs4"
   ]
  },
  {
   "cell_type": "code",
   "execution_count": 2,
   "id": "e95fd176",
   "metadata": {},
   "outputs": [],
   "source": [
    "from bs4 import BeautifulSoup"
   ]
  },
  {
   "cell_type": "code",
   "execution_count": 3,
   "id": "de666a9f",
   "metadata": {},
   "outputs": [],
   "source": [
    "results = requests.get(\"https://economictimes.indiatimes.com/markets/stocks/recos\")"
   ]
  },
  {
   "cell_type": "code",
   "execution_count": 4,
   "id": "0e3b9f1e",
   "metadata": {},
   "outputs": [],
   "source": [
    "src = results.content"
   ]
  },
  {
   "cell_type": "code",
   "execution_count": 5,
   "id": "9a544142",
   "metadata": {},
   "outputs": [],
   "source": [
    "soup = BeautifulSoup(src, 'lxml')"
   ]
  },
  {
   "cell_type": "code",
   "execution_count": 6,
   "id": "b3e1bb6a",
   "metadata": {},
   "outputs": [],
   "source": [
    "var = soup.find_all('div', {'class' : 'eachStory'})[4].find_all('a')[-1].text"
   ]
  },
  {
   "cell_type": "code",
   "execution_count": 7,
   "id": "ddf21ab4",
   "metadata": {},
   "outputs": [
    {
     "name": "stdout",
     "output_type": "stream",
     "text": [
      "Buy Hindalco Industries, target price Rs 525:  JM Financial \n"
     ]
    }
   ],
   "source": [
    "print(var)"
   ]
  },
  {
   "cell_type": "code",
   "execution_count": 10,
   "id": "4a7060f0",
   "metadata": {},
   "outputs": [],
   "source": [
    "var = soup.find_all('div', {'class' : 'eachStory'})[4].find_all('p')[-1].text"
   ]
  },
  {
   "cell_type": "code",
   "execution_count": 11,
   "id": "323a770b",
   "metadata": {},
   "outputs": [
    {
     "name": "stdout",
     "output_type": "stream",
     "text": [
      "Hindalco Industries Ltd., incorporated in the year 1958, is a Large Cap company (having a market cap of Rs 96246.41 Crore) operating in Metals - Non Ferrous sector.\n"
     ]
    }
   ],
   "source": [
    "print(var)"
   ]
  },
  {
   "cell_type": "code",
   "execution_count": 17,
   "id": "f25665d4",
   "metadata": {},
   "outputs": [
    {
     "name": "stdout",
     "output_type": "stream",
     "text": [
      "1\n",
      "Buy Firstsource Solutions, target price Rs 125:  ICICI Direct \n",
      "Firstsource Solutions Ltd., incorporated in the year 2001, is a Mid Cap company (having a market cap of Rs 8126.91 Crore) operating in IT Enabled Services sector.\n",
      "2\n",
      "Buy Whirlpool of India, target price Rs 2260:  BNP Paribas\n",
      "Whirlpool of India Ltd., incorporated in the year 1960, is a Large Cap company (having a market cap of Rs 22934.62 Crore) operating in Consumer Durables sector.\n",
      "3\n",
      "Buy ITC, target price Rs 360:  BNP Paribas\n",
      "ITC Ltd., incorporated in the year 1910, is a Large Cap company (having a market cap of Rs 408817.70 Crore) operating in Tobacco sector.\n",
      "4\n",
      "Buy FSN E-Commerce Ventures, target price Rs 1780:  JM Financial \n",
      "FSN E-Commerce Ventures Ltd., incorporated in the year 2012, is a Small Cap company (having a market cap of Rs 64256.75 Crore) operating in Services sector.\n",
      "5\n",
      "Buy Hindalco Industries, target price Rs 525:  JM Financial \n",
      "Hindalco Industries Ltd., incorporated in the year 1958, is a Large Cap company (having a market cap of Rs 96246.41 Crore) operating in Metals - Non Ferrous sector.\n",
      "6\n",
      "Buy Lemon Tree Hotels, target price Rs 110:  ICICI Direct \n",
      "Lemon Tree Hotels Ltd., incorporated in the year 1992, is a Mid Cap company (having a market cap of Rs 6155.76 Crore) operating in Tourism & Hospitality sector.\n",
      "7\n",
      "Buy Easy Trip Planners, target price Rs 505:  ICICI Direct \n",
      "Easy Trip Planners Ltd., incorporated in the year 2008, is a Small Cap company (having a market cap of Rs 8637.28 Crore) operating in Services sector.\n",
      "8\n",
      "Buy EIH, target price Rs 240:  ICICI Direct \n",
      "EIH Ltd., incorporated in the year 1949, is a Mid Cap company (having a market cap of Rs 12082.04 Crore) operating in Tourism & Hospitality sector.\n",
      "9\n",
      "Buy Indian Hotels Company, target price Rs 365:  ICICI Direct \n",
      "Indian Hotels Company Ltd., incorporated in the year 1902, is a Mid Cap company (having a market cap of Rs 44067.90 Crore) operating in Tourism & Hospitality sector.\n",
      "10\n",
      "Add Century Plyboards (India), target price Rs 750:  ICICI Securities \n",
      "Century Plyboards (India) Ltd., incorporated in the year 1982, is a Mid Cap company (having a market cap of Rs 15184.41 Crore) operating in Building Materials sector.\n"
     ]
    }
   ],
   "source": [
    "i = 0\n",
    "while i<10:\n",
    "    print(i+1)\n",
    "    print(soup.find_all('div', {'class' : 'eachStory'})[i].find_all('a')[-1].text)\n",
    "    print(soup.find_all('div', {'class' : 'eachStory'})[i].find_all('p')[-1].text)\n",
    "    i+=1"
   ]
  },
  {
   "cell_type": "code",
   "execution_count": 19,
   "id": "2e9a49ae",
   "metadata": {},
   "outputs": [],
   "source": [
    "length = len(soup.find_all('div', {'class' : 'eachStory'}))"
   ]
  },
  {
   "cell_type": "code",
   "execution_count": 20,
   "id": "6443e561",
   "metadata": {},
   "outputs": [
    {
     "name": "stdout",
     "output_type": "stream",
     "text": [
      "1\n",
      "Buy Firstsource Solutions, target price Rs 125:  ICICI Direct \n",
      "Firstsource Solutions Ltd., incorporated in the year 2001, is a Mid Cap company (having a market cap of Rs 8126.91 Crore) operating in IT Enabled Services sector.\n",
      "2\n",
      "Buy Whirlpool of India, target price Rs 2260:  BNP Paribas\n",
      "Whirlpool of India Ltd., incorporated in the year 1960, is a Large Cap company (having a market cap of Rs 22934.62 Crore) operating in Consumer Durables sector.\n",
      "3\n",
      "Buy ITC, target price Rs 360:  BNP Paribas\n",
      "ITC Ltd., incorporated in the year 1910, is a Large Cap company (having a market cap of Rs 408817.70 Crore) operating in Tobacco sector.\n",
      "4\n",
      "Buy FSN E-Commerce Ventures, target price Rs 1780:  JM Financial \n",
      "FSN E-Commerce Ventures Ltd., incorporated in the year 2012, is a Small Cap company (having a market cap of Rs 64256.75 Crore) operating in Services sector.\n",
      "5\n",
      "Buy Hindalco Industries, target price Rs 525:  JM Financial \n",
      "Hindalco Industries Ltd., incorporated in the year 1958, is a Large Cap company (having a market cap of Rs 96246.41 Crore) operating in Metals - Non Ferrous sector.\n",
      "6\n",
      "Buy Lemon Tree Hotels, target price Rs 110:  ICICI Direct \n",
      "Lemon Tree Hotels Ltd., incorporated in the year 1992, is a Mid Cap company (having a market cap of Rs 6155.76 Crore) operating in Tourism & Hospitality sector.\n",
      "7\n",
      "Buy Easy Trip Planners, target price Rs 505:  ICICI Direct \n",
      "Easy Trip Planners Ltd., incorporated in the year 2008, is a Small Cap company (having a market cap of Rs 8637.28 Crore) operating in Services sector.\n",
      "8\n",
      "Buy EIH, target price Rs 240:  ICICI Direct \n",
      "EIH Ltd., incorporated in the year 1949, is a Mid Cap company (having a market cap of Rs 12082.04 Crore) operating in Tourism & Hospitality sector.\n",
      "9\n",
      "Buy Indian Hotels Company, target price Rs 365:  ICICI Direct \n",
      "Indian Hotels Company Ltd., incorporated in the year 1902, is a Mid Cap company (having a market cap of Rs 44067.90 Crore) operating in Tourism & Hospitality sector.\n",
      "10\n",
      "Add Century Plyboards (India), target price Rs 750:  ICICI Securities \n",
      "Century Plyboards (India) Ltd., incorporated in the year 1982, is a Mid Cap company (having a market cap of Rs 15184.41 Crore) operating in Building Materials sector.\n",
      "11\n",
      "Buy Sun Pharmaceutical Industries, target price Rs 1074.1:  BNP Paribas\n",
      "Sun Pharmaceutical Industries Ltd., incorporated in the year 1993, is a Large Cap company (having a market cap of Rs 214572.53 Crore) operating in Pharmaceuticals sector.\n",
      "12\n",
      "Buy Infosys, target price Rs 1665:  BNP Paribas\n",
      "Infosys Ltd., incorporated in the year 1981, is a Large Cap company (having a market cap of Rs 625883.58 Crore) operating in IT Software sector.\n",
      "13\n",
      "Buy HDFC Bank, target price Rs 2030:  BNP Paribas\n",
      "HDFC Bank Ltd., incorporated in the year 1994, is a banking company (having a market cap of Rs 831849.82 Crore).\n",
      "14\n",
      "Buy Axis Bank, target price Rs 1130:  BNP Paribas\n",
      "Axis Bank Ltd. key Products/Revenue Segments include Interest & Discount on Advances & Bills, Income From Investment, Interest and Interest On Balances with RBI and Other Inter-Bank Funds for the year ending 31-Mar-2022.\n",
      "15\n",
      "Buy SBI Life Insurance Company, target price Rs 1710:  Emkay Global\n",
      "SBI Life Insurance Company Ltd., incorporated in the year 2000, is a Large Cap company (having a market cap of Rs 131833.09 Crore) operating in Financial Services sector.\n",
      "16\n",
      "Buy Max Financial Services, target price Rs 1060:  Emkay Global\n",
      "Max Financial Services Ltd. key Products/Revenue Segments include Income From Dividend, Income From Sale Of Share & Securities, Sale of services, Rental Income and Interest for the year ending 31-Mar-2022.\n"
     ]
    }
   ],
   "source": [
    "i = 0\n",
    "while i<length:\n",
    "    print(i+1)\n",
    "    print(soup.find_all('div', {'class' : 'eachStory'})[i].find_all('a')[-1].text)\n",
    "    print(soup.find_all('div', {'class' : 'eachStory'})[i].find_all('p')[-1].text)\n",
    "    i+=1"
   ]
  },
  {
   "cell_type": "code",
   "execution_count": null,
   "id": "c62fae46",
   "metadata": {},
   "outputs": [],
   "source": []
  }
 ],
 "metadata": {
  "kernelspec": {
   "display_name": "Python 3 (ipykernel)",
   "language": "python",
   "name": "python3"
  },
  "language_info": {
   "codemirror_mode": {
    "name": "ipython",
    "version": 3
   },
   "file_extension": ".py",
   "mimetype": "text/x-python",
   "name": "python",
   "nbconvert_exporter": "python",
   "pygments_lexer": "ipython3",
   "version": "3.10.6"
  }
 },
 "nbformat": 4,
 "nbformat_minor": 5
}
