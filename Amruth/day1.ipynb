{
 "cells": [
  {
   "cell_type": "code",
   "execution_count": 3,
   "id": "9ef99616",
   "metadata": {},
   "outputs": [],
   "source": [
    "import pandas as pd\n",
    "import numpy as np\n",
    "\n",
    "## 1. Creating a DataFrame.\n",
    "data = {'name': ['Jay', 'Ron', 'joe', 'Ross'],\n",
    "        'age': ['5', '10', '7', '6'],\n",
    "        'score': [9.4, 8.9, 7.2, 9]} \n",
    "\n",
    "df = pd.DataFrame(data)\n",
    "\n",
    "## Parameters ##\n",
    "## Data : ndarray (structured or homogeneous), Iterable, dict, or DataFrame\n",
    "## index: The index (row labels) of the DataFrame.\n",
    "## columns: The column labels of the DataFrame.\n",
    "## dtype\n",
    "## copy\n",
    "\n"
   ]
  },
  {
   "cell_type": "code",
   "execution_count": 5,
   "id": "a51ac2f7",
   "metadata": {},
   "outputs": [
    {
     "name": "stdout",
     "output_type": "stream",
     "text": [
      "   name age  score\n",
      "0   Jay   5    9.4\n",
      "1   Ron  10    8.9\n",
      "2   joe   7    7.2\n",
      "3  Ross   6    9.0\n"
     ]
    }
   ],
   "source": [
    "df.to_csv('C:/Users/amrut/OneDrive/Documents/test.csv', index= False)\n",
    "print(df)"
   ]
  },
  {
   "cell_type": "code",
   "execution_count": null,
   "id": "760689d6",
   "metadata": {},
   "outputs": [],
   "source": []
  }
 ],
 "metadata": {
  "kernelspec": {
   "display_name": "Python 3 (ipykernel)",
   "language": "python",
   "name": "python3"
  },
  "language_info": {
   "codemirror_mode": {
    "name": "ipython",
    "version": 3
   },
   "file_extension": ".py",
   "mimetype": "text/x-python",
   "name": "python",
   "nbconvert_exporter": "python",
   "pygments_lexer": "ipython3",
   "version": "3.10.6"
  }
 },
 "nbformat": 4,
 "nbformat_minor": 5
}
