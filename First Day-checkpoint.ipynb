{
 "cells": [
  {
   "cell_type": "code",
   "execution_count": 1,
   "id": "57c87f1e",
   "metadata": {},
   "outputs": [],
   "source": [
    "import pandas as pd"
   ]
  },
  {
   "cell_type": "code",
   "execution_count": 2,
   "id": "ee115daf",
   "metadata": {},
   "outputs": [],
   "source": [
    "import numpy as np"
   ]
  },
  {
   "cell_type": "code",
   "execution_count": 10,
   "id": "96e724d2",
   "metadata": {},
   "outputs": [
    {
     "name": "stdout",
     "output_type": "stream",
     "text": [
      "   name age  score\n",
      "0   Jay   5    9.4\n",
      "1   Ron  10    8.9\n",
      "2   joe   7    7.2\n",
      "3  Ross   6    9.0\n"
     ]
    }
   ],
   "source": [
    "data = {'name': ['Jay', 'Ron', 'joe', 'Ross'],\n",
    "        'age': ['5', '10', '7', '6'],\n",
    "        'score': [9.4, 8.9, 7.2, 9]} \n",
    "\n",
    "df = pd.DataFrame(data)\n",
    "\n",
    "df.to_csv('C:/Users/Manoj Shriyan/PycharmProjects/14DaysChallenge/text_csv', index= False)\n",
    "print(df)"
   ]
  },
  {
   "cell_type": "code",
   "execution_count": null,
   "id": "d4e51ec3",
   "metadata": {},
   "outputs": [],
   "source": []
  }
 ],
 "metadata": {
  "kernelspec": {
   "display_name": "Python 3 (ipykernel)",
   "language": "python",
   "name": "python3"
  },
  "language_info": {
   "codemirror_mode": {
    "name": "ipython",
    "version": 3
   },
   "file_extension": ".py",
   "mimetype": "text/x-python",
   "name": "python",
   "nbconvert_exporter": "python",
   "pygments_lexer": "ipython3",
   "version": "3.10.2"
  }
 },
 "nbformat": 4,
 "nbformat_minor": 5
}
