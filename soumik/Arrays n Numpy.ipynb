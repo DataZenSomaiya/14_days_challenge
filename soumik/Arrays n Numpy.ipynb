{
 "cells": [
  {
   "cell_type": "code",
   "execution_count": 1,
   "id": "92b60017",
   "metadata": {},
   "outputs": [],
   "source": [
    "import numpy as np"
   ]
  },
  {
   "cell_type": "code",
   "execution_count": 3,
   "id": "b9a0d742",
   "metadata": {},
   "outputs": [
    {
     "name": "stdout",
     "output_type": "stream",
     "text": [
      "[[9.  8.  7.  5.  9. ]\n",
      " [6.  5.  4.  7.8 6.9]]\n",
      "[list([9.0, 8.0, 7.0, 5.0, 9.0, 4.0, 3.2, 7.9]) list([6.0, 5.0, 4.0])]\n"
     ]
    }
   ],
   "source": [
    "arr1 = np.array([[9.0,8.0,7.0,5.0,9.0],[6.0,5.0,4.0,7.8,6.9]])\n",
    "print(arr1)\n",
    "\n",
    "arr2 = np.array([[9.0,8.0,7.0,5.0,9.0,4.0,3.2,7.9],[6.0,5.0,4.0]], dtype =object)\n",
    "print(arr2)"
   ]
  },
  {
   "cell_type": "code",
   "execution_count": 4,
   "id": "c3e64cd1",
   "metadata": {},
   "outputs": [
    {
     "name": "stdout",
     "output_type": "stream",
     "text": [
      "Dimension of Array 1- 2\n",
      "Dimension of Array 2- 1\n",
      "Shape of Array 1- (2, 5)\n",
      "Shape of Array 2- (2,)\n",
      "Type of Array 1- float64\n",
      "Type of Array 2- object\n",
      "Size  8\n",
      "number of elements  10\n"
     ]
    }
   ],
   "source": [
    "print('Dimension of Array 1-',arr1.ndim)\n",
    "print('Dimension of Array 2-',arr2.ndim)\n",
    "\n",
    "\n",
    "print('Shape of Array 1-',arr1.shape)\n",
    "print('Shape of Array 2-',arr2.shape)\n",
    "\n",
    "\n",
    "print('Type of Array 1-',arr1.dtype)\n",
    "print('Type of Array 2-',arr2.dtype)\n",
    "\n",
    "\n",
    "print('Size ',arr1.itemsize)\n",
    "\n",
    "\n",
    "print('number of elements ',arr1.size)"
   ]
  },
  {
   "cell_type": "code",
   "execution_count": 6,
   "id": "dde64767",
   "metadata": {},
   "outputs": [
    {
     "name": "stdout",
     "output_type": "stream",
     "text": [
      "7.8\n"
     ]
    }
   ],
   "source": [
    "# specific row and column\n",
    "print(arr1[1, 3])"
   ]
  },
  {
   "cell_type": "code",
   "execution_count": 8,
   "id": "4b22b2d7",
   "metadata": {},
   "outputs": [
    {
     "name": "stdout",
     "output_type": "stream",
     "text": [
      "[6.  5.  4.  7.8 6.9]\n"
     ]
    }
   ],
   "source": [
    "print(arr1[1, :])"
   ]
  },
  {
   "cell_type": "code",
   "execution_count": 9,
   "id": "a8fbed82",
   "metadata": {},
   "outputs": [
    {
     "name": "stdout",
     "output_type": "stream",
     "text": [
      "[5.  7.8]\n"
     ]
    }
   ],
   "source": [
    "print(arr1[:, 3])"
   ]
  },
  {
   "cell_type": "code",
   "execution_count": 10,
   "id": "3125dcb5",
   "metadata": {},
   "outputs": [
    {
     "name": "stdout",
     "output_type": "stream",
     "text": [
      "[5.]\n"
     ]
    }
   ],
   "source": [
    "print(arr1[1, 1:-1:3])"
   ]
  },
  {
   "cell_type": "code",
   "execution_count": 12,
   "id": "52495f18",
   "metadata": {},
   "outputs": [
    {
     "name": "stdout",
     "output_type": "stream",
     "text": [
      "[[0. 0. 0.]\n",
      " [0. 0. 0.]]\n"
     ]
    }
   ],
   "source": [
    "# different arrays\n",
    "print(np.zeros((2,3)))"
   ]
  },
  {
   "cell_type": "code",
   "execution_count": 13,
   "id": "7ca692e9",
   "metadata": {},
   "outputs": [
    {
     "name": "stdout",
     "output_type": "stream",
     "text": [
      "**********************\n",
      "[[[1 1]\n",
      "  [1 1]]\n",
      "\n",
      " [[1 1]\n",
      "  [1 1]]\n",
      "\n",
      " [[1 1]\n",
      "  [1 1]]]\n",
      "**********************\n"
     ]
    }
   ],
   "source": [
    "print('*'*22)\n",
    "print(np.ones((3,2,2), dtype='int32'))\n",
    "print('*'*22)"
   ]
  },
  {
   "cell_type": "code",
   "execution_count": 14,
   "id": "8fb8b581",
   "metadata": {},
   "outputs": [
    {
     "name": "stdout",
     "output_type": "stream",
     "text": [
      "[[[99 99 99]\n",
      "  [99 99 99]\n",
      "  [99 99 99]]\n",
      "\n",
      " [[99 99 99]\n",
      "  [99 99 99]\n",
      "  [99 99 99]]\n",
      "\n",
      " [[99 99 99]\n",
      "  [99 99 99]\n",
      "  [99 99 99]]]\n",
      "***********************\n"
     ]
    }
   ],
   "source": [
    "print(np.full((3,3,3), 99, dtype='int32'))\n",
    "print('*'*23)"
   ]
  },
  {
   "cell_type": "code",
   "execution_count": 15,
   "id": "0db72f41",
   "metadata": {},
   "outputs": [
    {
     "name": "stdout",
     "output_type": "stream",
     "text": [
      "[[0.65013524 0.71966009 0.67700313 0.14784392]\n",
      " [0.16495721 0.88778528 0.53204924 0.33226218]\n",
      " [0.17124555 0.7749636  0.07298903 0.4891834 ]]\n"
     ]
    }
   ],
   "source": [
    "print(np.random.rand(3,4))"
   ]
  },
  {
   "cell_type": "code",
   "execution_count": 16,
   "id": "7b5e64d1",
   "metadata": {},
   "outputs": [
    {
     "name": "stdout",
     "output_type": "stream",
     "text": [
      "[[ 7 -2 -2  4]\n",
      " [ 3  7  2  2]]\n"
     ]
    }
   ],
   "source": [
    "print(np.random.randint(-5,9, size=(2,4)))"
   ]
  },
  {
   "cell_type": "code",
   "execution_count": 17,
   "id": "8e945dac",
   "metadata": {},
   "outputs": [
    {
     "name": "stdout",
     "output_type": "stream",
     "text": [
      "[[1. 0. 0. 0. 0. 0. 0.]\n",
      " [0. 1. 0. 0. 0. 0. 0.]\n",
      " [0. 0. 1. 0. 0. 0. 0.]\n",
      " [0. 0. 0. 1. 0. 0. 0.]\n",
      " [0. 0. 0. 0. 1. 0. 0.]\n",
      " [0. 0. 0. 0. 0. 1. 0.]\n",
      " [0. 0. 0. 0. 0. 0. 1.]]\n"
     ]
    }
   ],
   "source": [
    "print(np.identity(7))"
   ]
  },
  {
   "cell_type": "code",
   "execution_count": null,
   "id": "4f4059eb",
   "metadata": {},
   "outputs": [],
   "source": []
  }
 ],
 "metadata": {
  "kernelspec": {
   "display_name": "Python 3 (ipykernel)",
   "language": "python",
   "name": "python3"
  },
  "language_info": {
   "codemirror_mode": {
    "name": "ipython",
    "version": 3
   },
   "file_extension": ".py",
   "mimetype": "text/x-python",
   "name": "python",
   "nbconvert_exporter": "python",
   "pygments_lexer": "ipython3",
   "version": "3.10.6"
  }
 },
 "nbformat": 4,
 "nbformat_minor": 5
}
