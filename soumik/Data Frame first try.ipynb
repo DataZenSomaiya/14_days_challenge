{
 "cells": [
  {
   "cell_type": "code",
   "execution_count": null,
   "id": "f27f6113",
   "metadata": {},
   "outputs": [],
   "source": [
    "## 1. Creating a DataFrame.\n",
    "data = {'name': ['Jay', 'Ron', 'joe', 'Ross'],\n",
    "        'age': ['5', '10', '7', '6'],\n",
    "        'score': [9.4, 8.9, 7.2, 9]} \n",
    "\n",
    "df = pd.DataFrame(data)\n",
    "\n",
    "## Parameters ##\n",
    "## Data : ndarray (structured or homogeneous), Iterable, dict, or DataFrame\n",
    "## index: The index (row labels) of the DataFrame.\n",
    "## columns: The column labels of the DataFrame.\n",
    "## dtype\n",
    "## copy\n",
    "\n",
    "df.to_csv('D:\\python', index= False)\n",
    "print(df)"
   ]
  }
 ],
 "metadata": {
  "kernelspec": {
   "display_name": "Python 3 (ipykernel)",
   "language": "python",
   "name": "python3"
  },
  "language_info": {
   "codemirror_mode": {
    "name": "ipython",
    "version": 3
   },
   "file_extension": ".py",
   "mimetype": "text/x-python",
   "name": "python",
   "nbconvert_exporter": "python",
   "pygments_lexer": "ipython3",
   "version": "3.10.6"
  }
 },
 "nbformat": 4,
 "nbformat_minor": 5
}
