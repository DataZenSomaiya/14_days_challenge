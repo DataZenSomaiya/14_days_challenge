{
 "cells": [
  {
   "cell_type": "code",
   "execution_count": 408,
   "metadata": {},
   "outputs": [],
   "source": [
    "import requests\n",
    "from bs4 import BeautifulSoup\n",
    "import re\n",
    "import pandas as pd\n",
    "import csv"
   ]
  },
  {
   "cell_type": "code",
   "execution_count": 409,
   "metadata": {},
   "outputs": [
    {
     "name": "stdout",
     "output_type": "stream",
     "text": [
      "200\n"
     ]
    }
   ],
   "source": [
    "url = requests.get(\"https://www.magicbricks.com/Real-estate-projects-Search/residential-new-project?&proptype=Multistorey-Apartment,Builder-Floor-Apartment,Penthouse,Studio-Apartment,Residential-House,Villa&cityName=Mumbai&mbTrackSrc=tabChange&page=1&category=S&budgetMin=20000000\")\n",
    "print(url.status_code)"
   ]
  },
  {
   "cell_type": "code",
   "execution_count": 410,
   "metadata": {},
   "outputs": [],
   "source": [
    "soup = BeautifulSoup(url.content, 'html.parser')"
   ]
  },
  {
   "cell_type": "code",
   "execution_count": 411,
   "metadata": {},
   "outputs": [
    {
     "name": "stdout",
     "output_type": "stream",
     "text": [
      "[]\n"
     ]
    }
   ],
   "source": [
    "print(soup.find_all(\"Mumbai\"))"
   ]
  },
  {
   "cell_type": "code",
   "execution_count": 412,
   "metadata": {},
   "outputs": [],
   "source": [
    "def remove(string):\n",
    "    pattern = re.compile(r'\\s+')\n",
    "        \n",
    "    return re.sub(pattern, '', string.replace('(Carpet Area)',''))"
   ]
  },
  {
   "cell_type": "markdown",
   "metadata": {},
   "source": [
    "NAMEEE"
   ]
  },
  {
   "cell_type": "code",
   "execution_count": 413,
   "metadata": {},
   "outputs": [
    {
     "name": "stdout",
     "output_type": "stream",
     "text": [
      "['LodhaCodenameEvergreen']\n",
      "['UrbanGrandeur']\n",
      "['LodhaMahalakshmiSignet']\n",
      "['JankiHeritage']\n",
      "['LodhaParkTower6Adrina']\n",
      "['KalpataruVivant']\n",
      "['SanghviInfenia']\n",
      "['CodenameRareByRunwal']\n",
      "['DEMCygnus']\n",
      "['Greenairy']\n"
     ]
    }
   ],
   "source": [
    "b=soup.find_all('strong')\n",
    "\n",
    "for ele in b:\n",
    "    a = ele.text.strip()\n",
    "\n",
    "    a = remove(a)\n",
    "\n",
    "    x = a.split(\",\")\n",
    "\n",
    "    print(x)\n",
    "\n",
    "\n",
    "    with open('Example5.csv', 'a', newline = '') as csvfile:\n",
    "        my_writer = csv.writer(csvfile, delimiter = ' ')\n",
    "            \n",
    "        a = my_writer.writerow(x)\n"
   ]
  },
  {
   "cell_type": "markdown",
   "metadata": {},
   "source": [
    "Rupees"
   ]
  },
  {
   "cell_type": "code",
   "execution_count": 414,
   "metadata": {},
   "outputs": [
    {
     "name": "stdout",
     "output_type": "stream",
     "text": [
      "['1.32Cr-2.71Cr']\n",
      "['1.05Cr-2.55Cr']\n",
      "['4.42Cr-8.17Cr']\n",
      "['1.14Cr-3.46Cr']\n",
      "['2.10Cr-16.23Cr']\n",
      "['99Lac-3.46Cr']\n",
      "['2.02Cr-3.19Cr']\n",
      "['3.35Cr-5.50Cr']\n",
      "['89.5Lac-2.10Cr']\n",
      "['95Lac-3.25Cr']\n"
     ]
    }
   ],
   "source": [
    "bc = soup.find_all(\"div\", {\"class\":\"proPriceField\"})\n",
    "\n",
    "\n",
    "for ele in bc:\n",
    "    a = ele.text.strip()\n",
    "\n",
    "    a = remove(a)\n",
    "\n",
    "    x = a.split(\",\")\n",
    "\n",
    "    print(x)\n",
    "\n",
    "\n",
    "    with open('Example4.csv', 'a', newline = '') as csvfile:\n",
    "        my_writer = csv.writer(csvfile, delimiter = ' ')\n",
    "            \n",
    "        a = my_writer.writerow(x)\n",
    "\n"
   ]
  },
  {
   "cell_type": "markdown",
   "metadata": {},
   "source": [
    "LOCATION"
   ]
  },
  {
   "cell_type": "code",
   "execution_count": 415,
   "metadata": {},
   "outputs": [
    {
     "name": "stdout",
     "output_type": "stream",
     "text": [
      "['inVikhroliWest', 'Mumbai']\n",
      "['inMiraBhayandar', 'Mumbai']\n",
      "['inByculla', 'Mumbai']\n",
      "['inChembur', 'Mumbai']\n",
      "['inWorli', 'Mumbai']\n",
      "['inJogeshwariVikhroliLinkRoad', 'Mumbai']\n",
      "['inSantacruzEast', 'Mumbai']\n",
      "['inD.N.Nagar', 'Mumbai']\n",
      "['inKandivaliWest', 'Mumbai']\n",
      "['inBorivaliEast', 'Mumbai']\n"
     ]
    }
   ],
   "source": [
    "bcd = soup.find_all(\"p\", {\"class\":\"proGroup\"})\n",
    "\n",
    "\n",
    "for ele in bcd:\n",
    "    a = ele.text.strip()\n",
    "\n",
    "    if \"by\" not in a: \n",
    "        \n",
    "        a = remove(a)\n",
    "\n",
    "        x = a.split(\",\")\n",
    "\n",
    "        print(x)\n",
    "\n",
    "\n",
    "        with open('Example.csv', 'a', newline = '') as csvfile:\n",
    "            my_writer = csv.writer(csvfile, delimiter = ' ')\n",
    "            \n",
    "            a = my_writer.writerow(x)\n",
    "\n",
    "    else:\n",
    "        continue\n",
    "        "
   ]
  },
  {
   "cell_type": "markdown",
   "metadata": {},
   "source": [
    "CARPET AREA"
   ]
  },
  {
   "cell_type": "code",
   "execution_count": 416,
   "metadata": {},
   "outputs": [
    {
     "name": "stdout",
     "output_type": "stream",
     "text": [
      "['1080sqft']\n",
      "['1428sqft']\n",
      "['1100-1111sqft']\n",
      "['1600-1603sqft']\n",
      "['650sqft']\n",
      "['1073sqft']\n",
      "['944-967sqft']\n",
      "['1136-1334sqft']\n",
      "['1193-2520sqft']\n",
      "['3298sqft']\n",
      "['866-1076sqft']\n",
      "['578-727sqft']\n",
      "['772-912sqft']\n",
      "['859sqft']\n",
      "['1101-1216sqft']\n"
     ]
    }
   ],
   "source": [
    "bc = soup.find_all(\"div\", {\"class\":\"proDescColm2\"})\n",
    "\n",
    "\n",
    "for ele in bc:\n",
    "    a = ele.text.strip()\n",
    "        \n",
    "    a = remove(a)\n",
    "\n",
    "    x = a.split(\",\")\n",
    "\n",
    "    print(x)\n",
    "\n",
    "\n",
    "    with open('Example2.csv', 'a', newline = '') as csvfile:\n",
    "        my_writer = csv.writer(csvfile, delimiter = ' ')\n",
    "            \n",
    "        a = my_writer.writerow(x)\n"
   ]
  },
  {
   "cell_type": "code",
   "execution_count": 417,
   "metadata": {},
   "outputs": [
    {
     "name": "stdout",
     "output_type": "stream",
     "text": [
      "['3BHKFlat']\n",
      "['4BHKFlat']\n",
      "['3BHKFlat']\n",
      "['4BHKFlat']\n",
      "['2BHKBuilderFloor']\n",
      "['3BHKBuilderFloor']\n",
      "['2BHKFlat']\n",
      "['3BHKFlat']\n",
      "['6BHKFlat']\n",
      "['8BHKFlat']\n",
      "['3BHKFlat']\n",
      "['2BHKFlat']\n",
      "['3BHKFlat']\n",
      "['2BHKFlat']\n",
      "['3BHKFlat']\n"
     ]
    }
   ],
   "source": [
    "bc = soup.find_all(\"div\", {\"class\":\"proDescColm1\"})\n",
    "\n",
    "for ele in bc:\n",
    "    \n",
    "    a = ele.text.strip()\n",
    "  \n",
    "    a = remove(a)\n",
    "\n",
    "    x = a.split(\",\")\n",
    "\n",
    "    print(x)\n",
    "\n",
    "\n",
    "    with open('Example3.csv', 'a', newline = '') as csvfile:\n",
    "        my_writer = csv.writer(csvfile, delimiter = ' ')\n",
    "            \n",
    "        a = my_writer.writerow(x)\n",
    "        \n",
    "            \n"
   ]
  }
 ],
 "metadata": {
  "kernelspec": {
   "display_name": "Python 3.10.0 64-bit",
   "language": "python",
   "name": "python3"
  },
  "language_info": {
   "codemirror_mode": {
    "name": "ipython",
    "version": 3
   },
   "file_extension": ".py",
   "mimetype": "text/x-python",
   "name": "python",
   "nbconvert_exporter": "python",
   "pygments_lexer": "ipython3",
   "version": "3.10.0"
  },
  "orig_nbformat": 4,
  "vscode": {
   "interpreter": {
    "hash": "3d705a6a038193fd3b64072a75fd39ae7795e2726b39938d9c0a0dd429bbb596"
   }
  }
 },
 "nbformat": 4,
 "nbformat_minor": 2
}
