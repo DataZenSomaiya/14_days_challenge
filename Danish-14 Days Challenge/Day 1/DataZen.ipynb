{
 "cells": [
  {
   "cell_type": "markdown",
   "metadata": {},
   "source": [
    "Mohammed Danish Ansari"
   ]
  },
  {
   "cell_type": "code",
   "execution_count": 2,
   "metadata": {},
   "outputs": [],
   "source": [
    "#import\n",
    "\n",
    "import pandas as pd\n",
    "import numpy as np"
   ]
  },
  {
   "cell_type": "markdown",
   "metadata": {},
   "source": [
    "Creation of DataFrame"
   ]
  },
  {
   "cell_type": "code",
   "execution_count": 4,
   "metadata": {},
   "outputs": [],
   "source": [
    "dataframe = {'name':['Danish','Varun','PK','Muddasir'],'age':[17,20,19,21],'gamer level':[8.5,8.8,9.9,0.69]}"
   ]
  },
  {
   "cell_type": "code",
   "execution_count": 7,
   "metadata": {},
   "outputs": [
    {
     "name": "stdout",
     "output_type": "stream",
     "text": [
      "       name  age  gamer level\n",
      "0    Danish   17         8.50\n",
      "1     Varun   20         8.80\n",
      "2        PK   19         9.90\n",
      "3  Muddasir   21         0.69\n"
     ]
    }
   ],
   "source": [
    "df = pd.DataFrame(dataframe)\n",
    "print(df)"
   ]
  },
  {
   "cell_type": "markdown",
   "metadata": {},
   "source": [
    "Saving the dataframe to csv file"
   ]
  },
  {
   "cell_type": "code",
   "execution_count": 9,
   "metadata": {},
   "outputs": [],
   "source": [
    "df.to_csv(\"gamerness.csv\", index=False)"
   ]
  },
  {
   "cell_type": "markdown",
   "metadata": {},
   "source": [
    "Reading Data from csv file\n"
   ]
  },
  {
   "cell_type": "code",
   "execution_count": 10,
   "metadata": {},
   "outputs": [
    {
     "name": "stdout",
     "output_type": "stream",
     "text": [
      "       name  age  gamer level\n",
      "0    Danish   17         8.50\n",
      "1     Varun   20         8.80\n",
      "2        PK   19         9.90\n",
      "3  Muddasir   21         0.69\n"
     ]
    }
   ],
   "source": [
    "df = pd.read_csv(\"gamerness.csv\")\n",
    "print(df)"
   ]
  }
 ],
 "metadata": {
  "kernelspec": {
   "display_name": "Python 3.10.0 64-bit",
   "language": "python",
   "name": "python3"
  },
  "language_info": {
   "codemirror_mode": {
    "name": "ipython",
    "version": 3
   },
   "file_extension": ".py",
   "mimetype": "text/x-python",
   "name": "python",
   "nbconvert_exporter": "python",
   "pygments_lexer": "ipython3",
   "version": "3.10.0"
  },
  "orig_nbformat": 4,
  "vscode": {
   "interpreter": {
    "hash": "3d705a6a038193fd3b64072a75fd39ae7795e2726b39938d9c0a0dd429bbb596"
   }
  }
 },
 "nbformat": 4,
 "nbformat_minor": 2
}
