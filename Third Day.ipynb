{
 "cells": [
  {
   "cell_type": "markdown",
   "id": "7ecac271",
   "metadata": {},
   "source": [
    "# NUMPY"
   ]
  },
  {
   "cell_type": "code",
   "execution_count": 2,
   "id": "e81a767d",
   "metadata": {},
   "outputs": [],
   "source": [
    "import numpy as np"
   ]
  },
  {
   "cell_type": "code",
   "execution_count": 4,
   "id": "32f4a566",
   "metadata": {},
   "outputs": [
    {
     "name": "stdout",
     "output_type": "stream",
     "text": [
      "[[9.  8.  7.  5.  9. ]\n",
      " [6.  5.  4.  7.8 6.9]]\n",
      "[list([9.0, 8.0, 7.0, 5.0, 9.0, 4.0, 3.2, 7.9]) list([6.0, 5.0, 4.0])]\n"
     ]
    }
   ],
   "source": [
    "arr1 = np.array([[9.0,8.0,7.0,5.0,9.0],[6.0,5.0,4.0,7.8,6.9]])\n",
    "print(arr1)\n",
    "\n",
    "arr2 = np.array([[9.0,8.0,7.0,5.0,9.0,4.0,3.2,7.9],[6.0,5.0,4.0]], dtype =object)\n",
    "print(arr2)"
   ]
  },
  {
   "cell_type": "code",
   "execution_count": 5,
   "id": "a2e86640",
   "metadata": {},
   "outputs": [
    {
     "name": "stdout",
     "output_type": "stream",
     "text": [
      "Dimension of Array 1- 2\n",
      "Dimension of Array 2- 1\n",
      "Shape of Array 1- (2, 5)\n",
      "Shape of Array 2- (2,)\n",
      "Type of Array 1- float64\n",
      "Type of Array 2- object\n",
      "Size  8\n",
      "number of elements  10\n"
     ]
    }
   ],
   "source": [
    "print('Dimension of Array 1-',arr1.ndim)\n",
    "print('Dimension of Array 2-',arr2.ndim)\n",
    "\n",
    "print('Shape of Array 1-',arr1.shape)\n",
    "print('Shape of Array 2-',arr2.shape)\n",
    "\n",
    "print('Type of Array 1-',arr1.dtype)\n",
    "print('Type of Array 2-',arr2.dtype)\n",
    "\n",
    "print('Size ',arr1.itemsize)\n",
    "\n",
    "print('number of elements ',arr1.size)"
   ]
  },
  {
   "cell_type": "code",
   "execution_count": 6,
   "id": "ba12a9c4",
   "metadata": {},
   "outputs": [
    {
     "name": "stdout",
     "output_type": "stream",
     "text": [
      "7.0\n",
      "[9. 8. 7. 5. 9.]\n",
      "[7. 4.]\n",
      "[8. 5.]\n"
     ]
    }
   ],
   "source": [
    "print(arr1[0, 2])\n",
    "\n",
    "print(arr1[0, :])\n",
    "\n",
    "print(arr1[:, 2])\n",
    "\n",
    "print(arr1[0, 1:-1:2])"
   ]
  },
  {
   "cell_type": "code",
   "execution_count": 7,
   "id": "6d49c789",
   "metadata": {},
   "outputs": [
    {
     "name": "stdout",
     "output_type": "stream",
     "text": [
      "[[0. 0. 0.]\n",
      " [0. 0. 0.]]\n",
      "*************************\n",
      "[[[1 1]\n",
      "  [1 1]]\n",
      "\n",
      " [[1 1]\n",
      "  [1 1]]\n",
      "\n",
      " [[1 1]\n",
      "  [1 1]]\n",
      "\n",
      " [[1 1]\n",
      "  [1 1]]]\n",
      "*************************\n",
      "[[[99 99]\n",
      "  [99 99]\n",
      "  [99 99]]\n",
      "\n",
      " [[99 99]\n",
      "  [99 99]\n",
      "  [99 99]]]\n",
      "*************************\n"
     ]
    }
   ],
   "source": [
    "print(np.zeros((2,3)))\n",
    "print('*'*25)\n",
    "\n",
    "print(np.ones((4,2,2), dtype='int32'))\n",
    "print('*'*25)\n",
    "\n",
    "print(np.full((2,3,2), 99, dtype='int32'))\n",
    "print('*'*25)"
   ]
  },
  {
   "cell_type": "code",
   "execution_count": 8,
   "id": "30ead559",
   "metadata": {},
   "outputs": [
    {
     "name": "stdout",
     "output_type": "stream",
     "text": [
      "[[0.9872049  0.32751434]\n",
      " [0.76259238 0.11751265]\n",
      " [0.04455441 0.0136562 ]\n",
      " [0.28692206 0.43706897]]\n",
      "[[-1  2  0]\n",
      " [ 0 -2  3]\n",
      " [ 6 -1  4]]\n",
      "[[1. 0. 0. 0. 0.]\n",
      " [0. 1. 0. 0. 0.]\n",
      " [0. 0. 1. 0. 0.]\n",
      " [0. 0. 0. 1. 0.]\n",
      " [0. 0. 0. 0. 1.]]\n"
     ]
    }
   ],
   "source": [
    "print(np.random.rand(4,2))\n",
    "\n",
    "\n",
    "print(np.random.randint(-4,8, size=(3,3)))\n",
    "\n",
    "\n",
    "print(np.identity(5))"
   ]
  },
  {
   "cell_type": "code",
   "execution_count": null,
   "id": "db689b91",
   "metadata": {},
   "outputs": [],
   "source": []
  }
 ],
 "metadata": {
  "kernelspec": {
   "display_name": "Python 3 (ipykernel)",
   "language": "python",
   "name": "python3"
  },
  "language_info": {
   "codemirror_mode": {
    "name": "ipython",
    "version": 3
   },
   "file_extension": ".py",
   "mimetype": "text/x-python",
   "name": "python",
   "nbconvert_exporter": "python",
   "pygments_lexer": "ipython3",
   "version": "3.10.2"
  }
 },
 "nbformat": 4,
 "nbformat_minor": 5
}
