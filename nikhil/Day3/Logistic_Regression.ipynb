{
  "cells": [
    {
      "cell_type": "markdown",
      "metadata": {
        "id": "view-in-github",
        "colab_type": "text"
      },
      "source": [
        "<a href=\"https://colab.research.google.com/github/Geletinousamigo/14_days_challenge/blob/Nikhil-Parab/nikhil/Day3/Logistic_Regression.ipynb\" target=\"_parent\"><img src=\"https://colab.research.google.com/assets/colab-badge.svg\" alt=\"Open In Colab\"/></a>"
      ]
    },
    {
      "cell_type": "markdown",
      "metadata": {
        "id": "p9Q-4Rg73ndB"
      },
      "source": [
        "> `Check the presentation for logistic regression before moving on to the implementation part` "
      ]
    },
    {
      "cell_type": "code",
      "execution_count": 1,
      "metadata": {
        "id": "ylBHuaTI3nPb"
      },
      "outputs": [],
      "source": [
        "## Logistic Regression implementation"
      ]
    },
    {
      "cell_type": "code",
      "execution_count": 2,
      "metadata": {
        "id": "xIkXN1r0Akj6"
      },
      "outputs": [],
      "source": [
        "import pandas as pd\n",
        "import numpy as np"
      ]
    },
    {
      "cell_type": "code",
      "execution_count": 8,
      "metadata": {
        "id": "wtsdgt8XRYAx"
      },
      "outputs": [],
      "source": [
        "## Let's create a small sample dataset on classification (contains binary outcome)\n",
        "age=[23,18,27,16,40,29,24,21,34,32]\n",
        "employ=['employed','unemployed','employed','unemployed','employed','employed','unemployed','unemployed','employed','employed']\n",
        "salary=[100000,0,10000,0,4000000,1500000,0,0,500000,2000000]\n",
        "buy=[1,1,0,0,0,1,1,1,0,1]\n",
        "\n",
        "## It contains 4 columns, age,salary, employment type and last column being whether the person bought a laptop or not. (1- Yes, 0- No)\n",
        "\n",
        "df=pd.DataFrame(\n",
        "    {\n",
        "        'age':age,\n",
        "        'employment_type':employ,\n",
        "        'salary':salary,\n",
        "        'buy':buy\n",
        "    }\n",
        ")\n",
        "\n",
        "## Here we are processing the categorical variables ('employed' and 'unemployed') to numerical values. \n",
        "employment = pd.get_dummies(df['employment_type'], drop_first = True)\n",
        "df = pd.concat([df, employment], axis = 1)\n",
        "df.drop(['employment_type'], axis = 1, inplace = True)"
      ]
    },
    {
      "cell_type": "code",
      "source": [
        "print(df)"
      ],
      "metadata": {
        "id": "_5pfrLZsUXy1",
        "outputId": "c45e9258-7374-48c7-e389-5a6fb34dad71",
        "colab": {
          "base_uri": "https://localhost:8080/"
        }
      },
      "execution_count": 7,
      "outputs": [
        {
          "output_type": "stream",
          "name": "stdout",
          "text": [
            "   age employment_type   salary  buy  unemployed\n",
            "0   23        employed   100000    1           0\n",
            "1   18      unemployed        0    1           1\n",
            "2   27        employed    10000    0           0\n",
            "3   16      unemployed        0    0           1\n",
            "4   40        employed  4000000    0           0\n",
            "5   29        employed  1500000    1           0\n",
            "6   24      unemployed        0    1           1\n",
            "7   21      unemployed        0    1           1\n",
            "8   34        employed   500000    0           0\n",
            "9   32        employed  2000000    1           0\n"
          ]
        }
      ]
    },
    {
      "cell_type": "code",
      "execution_count": 9,
      "metadata": {
        "colab": {
          "base_uri": "https://localhost:8080/",
          "height": 206
        },
        "id": "Bimm5f-Wg9Y-",
        "outputId": "1cabf050-abd4-45c8-d958-557befa4940d"
      },
      "outputs": [
        {
          "output_type": "execute_result",
          "data": {
            "text/plain": [
              "   age   salary  buy  unemployed\n",
              "0   23   100000    1           0\n",
              "1   18        0    1           1\n",
              "2   27    10000    0           0\n",
              "3   16        0    0           1\n",
              "4   40  4000000    0           0"
            ],
            "text/html": [
              "\n",
              "  <div id=\"df-dcbf7aec-d97f-46f3-bc8e-0bf4618a3c08\">\n",
              "    <div class=\"colab-df-container\">\n",
              "      <div>\n",
              "<style scoped>\n",
              "    .dataframe tbody tr th:only-of-type {\n",
              "        vertical-align: middle;\n",
              "    }\n",
              "\n",
              "    .dataframe tbody tr th {\n",
              "        vertical-align: top;\n",
              "    }\n",
              "\n",
              "    .dataframe thead th {\n",
              "        text-align: right;\n",
              "    }\n",
              "</style>\n",
              "<table border=\"1\" class=\"dataframe\">\n",
              "  <thead>\n",
              "    <tr style=\"text-align: right;\">\n",
              "      <th></th>\n",
              "      <th>age</th>\n",
              "      <th>salary</th>\n",
              "      <th>buy</th>\n",
              "      <th>unemployed</th>\n",
              "    </tr>\n",
              "  </thead>\n",
              "  <tbody>\n",
              "    <tr>\n",
              "      <th>0</th>\n",
              "      <td>23</td>\n",
              "      <td>100000</td>\n",
              "      <td>1</td>\n",
              "      <td>0</td>\n",
              "    </tr>\n",
              "    <tr>\n",
              "      <th>1</th>\n",
              "      <td>18</td>\n",
              "      <td>0</td>\n",
              "      <td>1</td>\n",
              "      <td>1</td>\n",
              "    </tr>\n",
              "    <tr>\n",
              "      <th>2</th>\n",
              "      <td>27</td>\n",
              "      <td>10000</td>\n",
              "      <td>0</td>\n",
              "      <td>0</td>\n",
              "    </tr>\n",
              "    <tr>\n",
              "      <th>3</th>\n",
              "      <td>16</td>\n",
              "      <td>0</td>\n",
              "      <td>0</td>\n",
              "      <td>1</td>\n",
              "    </tr>\n",
              "    <tr>\n",
              "      <th>4</th>\n",
              "      <td>40</td>\n",
              "      <td>4000000</td>\n",
              "      <td>0</td>\n",
              "      <td>0</td>\n",
              "    </tr>\n",
              "  </tbody>\n",
              "</table>\n",
              "</div>\n",
              "      <button class=\"colab-df-convert\" onclick=\"convertToInteractive('df-dcbf7aec-d97f-46f3-bc8e-0bf4618a3c08')\"\n",
              "              title=\"Convert this dataframe to an interactive table.\"\n",
              "              style=\"display:none;\">\n",
              "        \n",
              "  <svg xmlns=\"http://www.w3.org/2000/svg\" height=\"24px\"viewBox=\"0 0 24 24\"\n",
              "       width=\"24px\">\n",
              "    <path d=\"M0 0h24v24H0V0z\" fill=\"none\"/>\n",
              "    <path d=\"M18.56 5.44l.94 2.06.94-2.06 2.06-.94-2.06-.94-.94-2.06-.94 2.06-2.06.94zm-11 1L8.5 8.5l.94-2.06 2.06-.94-2.06-.94L8.5 2.5l-.94 2.06-2.06.94zm10 10l.94 2.06.94-2.06 2.06-.94-2.06-.94-.94-2.06-.94 2.06-2.06.94z\"/><path d=\"M17.41 7.96l-1.37-1.37c-.4-.4-.92-.59-1.43-.59-.52 0-1.04.2-1.43.59L10.3 9.45l-7.72 7.72c-.78.78-.78 2.05 0 2.83L4 21.41c.39.39.9.59 1.41.59.51 0 1.02-.2 1.41-.59l7.78-7.78 2.81-2.81c.8-.78.8-2.07 0-2.86zM5.41 20L4 18.59l7.72-7.72 1.47 1.35L5.41 20z\"/>\n",
              "  </svg>\n",
              "      </button>\n",
              "      \n",
              "  <style>\n",
              "    .colab-df-container {\n",
              "      display:flex;\n",
              "      flex-wrap:wrap;\n",
              "      gap: 12px;\n",
              "    }\n",
              "\n",
              "    .colab-df-convert {\n",
              "      background-color: #E8F0FE;\n",
              "      border: none;\n",
              "      border-radius: 50%;\n",
              "      cursor: pointer;\n",
              "      display: none;\n",
              "      fill: #1967D2;\n",
              "      height: 32px;\n",
              "      padding: 0 0 0 0;\n",
              "      width: 32px;\n",
              "    }\n",
              "\n",
              "    .colab-df-convert:hover {\n",
              "      background-color: #E2EBFA;\n",
              "      box-shadow: 0px 1px 2px rgba(60, 64, 67, 0.3), 0px 1px 3px 1px rgba(60, 64, 67, 0.15);\n",
              "      fill: #174EA6;\n",
              "    }\n",
              "\n",
              "    [theme=dark] .colab-df-convert {\n",
              "      background-color: #3B4455;\n",
              "      fill: #D2E3FC;\n",
              "    }\n",
              "\n",
              "    [theme=dark] .colab-df-convert:hover {\n",
              "      background-color: #434B5C;\n",
              "      box-shadow: 0px 1px 3px 1px rgba(0, 0, 0, 0.15);\n",
              "      filter: drop-shadow(0px 1px 2px rgba(0, 0, 0, 0.3));\n",
              "      fill: #FFFFFF;\n",
              "    }\n",
              "  </style>\n",
              "\n",
              "      <script>\n",
              "        const buttonEl =\n",
              "          document.querySelector('#df-dcbf7aec-d97f-46f3-bc8e-0bf4618a3c08 button.colab-df-convert');\n",
              "        buttonEl.style.display =\n",
              "          google.colab.kernel.accessAllowed ? 'block' : 'none';\n",
              "\n",
              "        async function convertToInteractive(key) {\n",
              "          const element = document.querySelector('#df-dcbf7aec-d97f-46f3-bc8e-0bf4618a3c08');\n",
              "          const dataTable =\n",
              "            await google.colab.kernel.invokeFunction('convertToInteractive',\n",
              "                                                     [key], {});\n",
              "          if (!dataTable) return;\n",
              "\n",
              "          const docLinkHtml = 'Like what you see? Visit the ' +\n",
              "            '<a target=\"_blank\" href=https://colab.research.google.com/notebooks/data_table.ipynb>data table notebook</a>'\n",
              "            + ' to learn more about interactive tables.';\n",
              "          element.innerHTML = '';\n",
              "          dataTable['output_type'] = 'display_data';\n",
              "          await google.colab.output.renderOutput(dataTable, element);\n",
              "          const docLink = document.createElement('div');\n",
              "          docLink.innerHTML = docLinkHtml;\n",
              "          element.appendChild(docLink);\n",
              "        }\n",
              "      </script>\n",
              "    </div>\n",
              "  </div>\n",
              "  "
            ]
          },
          "metadata": {},
          "execution_count": 9
        }
      ],
      "source": [
        "df.head() # Displays the first 5 rows of the dataset"
      ]
    },
    {
      "cell_type": "markdown",
      "metadata": {
        "id": "4c-LYGTv3kHf"
      },
      "source": [
        "> - Now we want to predict whether a person is likely to buy a laptop or not on the basis of their age, salary and employment type.\n",
        "- Hence we store the column we want to predict in y and the rest of the dependent features in x\n",
        "\n",
        "\n",
        "\n",
        "\n",
        "\n",
        "\n"
      ]
    },
    {
      "cell_type": "code",
      "execution_count": 10,
      "metadata": {
        "id": "dcPZHQQojCpW"
      },
      "outputs": [],
      "source": [
        "## y_data is for the single column we want to predict while x_data consists of the dependant variables (hence we remove the column 'buy' from it)\n",
        "y_data = df['buy'] \n",
        "x_data = df.drop('buy', axis = 1)"
      ]
    },
    {
      "cell_type": "markdown",
      "metadata": {
        "id": "oXOiTrD67zvX"
      },
      "source": [
        "> Now, we split our dataset into training and testing data in the ratio if 7:3\n",
        "\n",
        "\n",
        "---\n",
        "\n",
        "> ```What is Train/Test split?```\n",
        "- `Training data`: It is the set of data that is used to train and make the model learn the hidden features/patterns in the data.\n",
        "- `Testing data`: The test set is a separate set of data used to test the model after completing the training.\n",
        "<br></br>\n",
        "\n",
        "> <img src=\"https://miro.medium.com/max/656/0*FKrWuLRbB_MiEIKh\" height=300 width=300></img>\n",
        "\n",
        "---\n",
        ">- To know more on train-test split [click here]( https://www.youtube.com/watch?v=fwY9Qv96DJY)"
      ]
    },
    {
      "cell_type": "code",
      "execution_count": 11,
      "metadata": {
        "id": "kFECcQWykCoN"
      },
      "outputs": [],
      "source": [
        "from sklearn.model_selection import train_test_split\n",
        "x_training_data, x_test_data, y_training_data, y_test_data = train_test_split(x_data, y_data, test_size = 0.3) \n",
        "# Test size is 0.3 since 30% of the data is kept for testing our model's accuracy"
      ]
    },
    {
      "cell_type": "markdown",
      "metadata": {
        "id": "qn77Ge--8CF-"
      },
      "source": [
        "### Now using sklearn library we define our logistic regression model. \n",
        "*`Scikit-learn` is a free machine learning library for Python. It features various algorithms like support vector machine, random forests, and k-neighbours, and it also supports Python numerical and scientific libraries like NumPy and SciPy*"
      ]
    },
    {
      "cell_type": "code",
      "execution_count": 12,
      "metadata": {
        "id": "j1s-wCTtkHPt"
      },
      "outputs": [],
      "source": [
        "from sklearn.linear_model import LogisticRegression\n",
        "model = LogisticRegression()"
      ]
    },
    {
      "cell_type": "markdown",
      "metadata": {
        "id": "xuypzEK78MO-"
      },
      "source": [
        "### We train the our model using our x and y training data.\n",
        "> We use our trained model to predict the values of our test data (x_test_data) and store it.\n",
        "\n",
        "*`fit()` : It is used for model fitting. Fitting is basically equal to training. Then, after it is trained, the model can be used to make predictions, usually with a .predict() method call.*"
      ]
    },
    {
      "cell_type": "code",
      "execution_count": 13,
      "metadata": {
        "id": "6FMkDd4fkLMv"
      },
      "outputs": [],
      "source": [
        "model.fit(x_training_data, y_training_data)\n",
        "predictions = model.predict(x_test_data)"
      ]
    },
    {
      "cell_type": "markdown",
      "metadata": {
        "id": "HNz0Of1_-og4"
      },
      "source": [
        "> Now we create a confusion matrix to test the accuracy of our model\n",
        "- **Confusion matrix** is used for *classfication* problems, to check the number of correct/incorrect predictions.\n",
        "-It is a table that is used to define the performance of a classification algorithm. A confusion matrix visualizes and summarizes the performance of a classification algorithm\n",
        "<br></br>\n",
        "- <img src=\"https://miro.medium.com/max/667/1*3yGLac6F4mTENnj5dBNvNQ.jpeg\"\n",
        "height=300 width=350></img>"
      ]
    },
    {
      "cell_type": "code",
      "execution_count": 14,
      "metadata": {
        "colab": {
          "base_uri": "https://localhost:8080/"
        },
        "id": "IcqrOcpAkONb",
        "outputId": "fe2d2f76-62c5-4a1d-cbda-62f9c66d72db"
      },
      "outputs": [
        {
          "output_type": "stream",
          "name": "stdout",
          "text": [
            "[[0 1]\n",
            " [2 0]]\n"
          ]
        }
      ],
      "source": [
        "from sklearn.metrics import confusion_matrix\n",
        "print (confusion_matrix(y_test_data,predictions))"
      ]
    },
    {
      "cell_type": "markdown",
      "metadata": {
        "id": "glHHhFaTSvGd"
      },
      "source": [
        "\n",
        "\n",
        "---\n",
        "\n",
        "\n",
        ">- As shown above \n",
        "- ``` True positives ``` : 1\n",
        "- ```True negatives```: 2\n",
        "- Since there are no false positives/negatives the accuracy of our model is 100%\n",
        "- This is usually `NOT` the case. It is very unlikely to achieve a 100% accuracy for a larger dataset with realistic values. "
      ]
    },
    {
      "cell_type": "markdown",
      "metadata": {
        "id": "DjSfFvWITcKw"
      },
      "source": [
        "> Now we will plot a graph of logistic regression that represents the relation between age and whether a person will buy a laptop or not. "
      ]
    },
    {
      "cell_type": "code",
      "execution_count": 15,
      "metadata": {
        "colab": {
          "base_uri": "https://localhost:8080/",
          "height": 296
        },
        "id": "RIBpL4ZtkRmg",
        "outputId": "c96a4825-d83e-4846-8c8e-a025a3fdffc6"
      },
      "outputs": [
        {
          "output_type": "execute_result",
          "data": {
            "text/plain": [
              "<matplotlib.axes._subplots.AxesSubplot at 0x7f465b0a3d10>"
            ]
          },
          "metadata": {},
          "execution_count": 15
        },
        {
          "output_type": "display_data",
          "data": {
            "text/plain": [
              "<Figure size 432x288 with 1 Axes>"
            ],
            "image/png": "[encoded data removed]"
          },
          "metadata": {
            "needs_background": "light"
          }
        }
      ],
      "source": [
        "import seaborn as sns\n",
        "sns.regplot(x=x_data['age'], y=y_data, data=df, logistic=True, ci=None)"
      ]
    },
    {
      "cell_type": "markdown",
      "metadata": {
        "id": "EoXC3xfDVBGJ"
      },
      "source": [
        "- As shown in the graph, a curve is formed to seperate the 2 outcomes of our dataset.\n",
        "- As depicted by the curve, ages between 15-30 are more likely to buy a new laptop\n",
        "> This graph is often used to find how a feature is dependent on the value we need to predict."
      ]
    }
  ],
  "metadata": {
    "colab": {
      "collapsed_sections": [],
      "provenance": [],
      "include_colab_link": true
    },
    "kernelspec": {
      "display_name": "Python 3",
      "name": "python3"
    },
    "language_info": {
      "name": "python"
    }
  },
  "nbformat": 4,
  "nbformat_minor": 0
}