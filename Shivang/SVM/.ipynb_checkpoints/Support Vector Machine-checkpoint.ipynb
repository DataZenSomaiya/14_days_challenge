{
 "cells": [
  {
   "cell_type": "code",
   "execution_count": 1,
   "metadata": {},
   "outputs": [],
   "source": [
    "import sklearn\n",
    "from sklearn import svm\n",
    "from sklearn import datasets"
   ]
  },
  {
   "cell_type": "code",
   "execution_count": 2,
   "metadata": {},
   "outputs": [],
   "source": [
    "cancer = datasets.load_breast_cancer()"
   ]
  },
  {
   "cell_type": "code",
   "execution_count": 3,
   "metadata": {},
   "outputs": [
    {
     "name": "stdout",
     "output_type": "stream",
     "text": [
      "Features:  ['mean radius' 'mean texture' 'mean perimeter' 'mean area'\n",
      " 'mean smoothness' 'mean compactness' 'mean concavity'\n",
      " 'mean concave points' 'mean symmetry' 'mean fractal dimension'\n",
      " 'radius error' 'texture error' 'perimeter error' 'area error'\n",
      " 'smoothness error' 'compactness error' 'concavity error'\n",
      " 'concave points error' 'symmetry error' 'fractal dimension error'\n",
      " 'worst radius' 'worst texture' 'worst perimeter' 'worst area'\n",
      " 'worst smoothness' 'worst compactness' 'worst concavity'\n",
      " 'worst concave points' 'worst symmetry' 'worst fractal dimension']\n"
     ]
    }
   ],
   "source": [
    "print(\"Features: \",cancer.feature_names)"
   ]
  },
  {
   "cell_type": "code",
   "execution_count": 4,
   "metadata": {},
   "outputs": [
    {
     "name": "stdout",
     "output_type": "stream",
     "text": [
      "Labels:  ['malignant' 'benign']\n"
     ]
    }
   ],
   "source": [
    "print(\"Labels: \", cancer.target_names)"
   ]
  },
  {
   "cell_type": "code",
   "execution_count": 5,
   "metadata": {},
   "outputs": [],
   "source": [
    "x = cancer.data  \n",
    "y = cancer.target  \n",
    "x_train, x_test, y_train, y_test = sklearn.model_selection.train_test_split(x, y, test_size=0.2)"
   ]
  },
  {
   "cell_type": "code",
   "execution_count": 6,
   "metadata": {},
   "outputs": [
    {
     "name": "stdout",
     "output_type": "stream",
     "text": [
      "[[1.129e+01 1.304e+01 7.223e+01 3.880e+02 9.834e-02 7.608e-02 3.265e-02\n",
      "  2.755e-02 1.769e-01 6.270e-02 1.904e-01 5.293e-01 1.164e+00 1.317e+01\n",
      "  6.472e-03 1.122e-02 1.282e-02 8.849e-03 1.692e-02 2.817e-03 1.232e+01\n",
      "  1.618e+01 7.827e+01 4.575e+02 1.358e-01 1.507e-01 1.275e-01 8.750e-02\n",
      "  2.733e-01 8.022e-02]\n",
      " [1.334e+01 1.586e+01 8.649e+01 5.200e+02 1.078e-01 1.535e-01 1.169e-01\n",
      "  6.987e-02 1.942e-01 6.902e-02 2.860e-01 1.016e+00 1.535e+00 1.296e+01\n",
      "  6.794e-03 3.575e-02 3.980e-02 1.383e-02 2.134e-02 4.603e-03 1.553e+01\n",
      "  2.319e+01 9.666e+01 6.149e+02 1.536e-01 4.791e-01 4.858e-01 1.708e-01\n",
      "  3.527e-01 1.016e-01]\n",
      " [1.626e+01 2.188e+01 1.075e+02 8.268e+02 1.165e-01 1.283e-01 1.799e-01\n",
      "  7.981e-02 1.869e-01 6.532e-02 5.706e-01 1.457e+00 2.961e+00 5.772e+01\n",
      "  1.056e-02 3.756e-02 5.839e-02 1.186e-02 4.022e-02 6.187e-03 1.773e+01\n",
      "  2.521e+01 1.137e+02 9.752e+02 1.426e-01 2.116e-01 3.344e-01 1.047e-01\n",
      "  2.736e-01 7.953e-02]\n",
      " [1.573e+01 1.128e+01 1.028e+02 7.472e+02 1.043e-01 1.299e-01 1.191e-01\n",
      "  6.211e-02 1.784e-01 6.259e-02 1.630e-01 3.871e-01 1.143e+00 1.387e+01\n",
      "  6.034e-03 1.820e-02 3.336e-02 1.067e-02 1.175e-02 2.256e-03 1.701e+01\n",
      "  1.420e+01 1.125e+02 8.543e+02 1.541e-01 2.979e-01 4.004e-01 1.452e-01\n",
      "  2.557e-01 8.181e-02]\n",
      " [1.944e+01 1.882e+01 1.281e+02 1.167e+03 1.089e-01 1.448e-01 2.256e-01\n",
      "  1.194e-01 1.823e-01 6.115e-02 5.659e-01 1.408e+00 3.631e+00 6.774e+01\n",
      "  5.288e-03 2.833e-02 4.256e-02 1.176e-02 1.717e-02 3.211e-03 2.396e+01\n",
      "  3.039e+01 1.539e+02 1.740e+03 1.514e-01 3.725e-01 5.936e-01 2.060e-01\n",
      "  3.266e-01 9.009e-02]] [1 1 0 1 0]\n"
     ]
    }
   ],
   "source": [
    "print(x_train[:5], y_train[:5])"
   ]
  }
 ],
 "metadata": {
  "kernelspec": {
   "display_name": "Python 3",
   "language": "python",
   "name": "python3"
  },
  "language_info": {
   "codemirror_mode": {
    "name": "ipython",
    "version": 3
   },
   "file_extension": ".py",
   "mimetype": "text/x-python",
   "name": "python",
   "nbconvert_exporter": "python",
   "pygments_lexer": "ipython3",
   "version": "3.8.5"
  }
 },
 "nbformat": 4,
 "nbformat_minor": 4
}
