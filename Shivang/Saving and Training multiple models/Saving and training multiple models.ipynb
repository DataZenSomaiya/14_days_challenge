{
 "cells": [
  {
   "cell_type": "code",
   "execution_count": 1,
   "metadata": {},
   "outputs": [],
   "source": [
    "import numpy as np\n",
    "import pandas as pd\n",
    "from sklearn import linear_model\n",
    "import sklearn\n",
    "from sklearn.utils import shuffle\n",
    "import matplotlib.pyplot as plt\n",
    "from matplotlib import style\n",
    "import pickle"
   ]
  },
  {
   "cell_type": "code",
   "execution_count": 2,
   "metadata": {},
   "outputs": [],
   "source": [
    "style.use(\"ggplot\")\n",
    "\n",
    "data = pd.read_csv(\"student-mat.csv\", sep=\";\")\n",
    "\n",
    "predict = \"G3\""
   ]
  },
  {
   "cell_type": "code",
   "execution_count": 3,
   "metadata": {},
   "outputs": [],
   "source": [
    "data = data[[\"G1\", \"G2\", \"absences\",\"failures\", \"studytime\",\"G3\"]]\n",
    "data = shuffle(data) "
   ]
  },
  {
   "cell_type": "code",
   "execution_count": 4,
   "metadata": {},
   "outputs": [],
   "source": [
    "x = np.array(data.drop([predict], 1))\n",
    "y =np.array(data[predict])\n",
    "x_train, x_test, y_train, y_test = sklearn.model_selection.train_test_split(x, y, test_size=0.1)"
   ]
  },
  {
   "cell_type": "code",
   "execution_count": 5,
   "metadata": {},
   "outputs": [
    {
     "name": "stdout",
     "output_type": "stream",
     "text": [
      "Accuracy: 0.8006372770423452\n",
      "Accuracy: 0.8164890583914161\n",
      "Accuracy: 0.8733782731063529\n",
      "Accuracy: 0.8194870337263191\n",
      "Accuracy: 0.7678145668581425\n",
      "Accuracy: 0.7373408713464193\n",
      "Accuracy: 0.8824773855601173\n",
      "Accuracy: 0.935967303435389\n",
      "Accuracy: 0.8464006771829496\n",
      "Accuracy: 0.8443390859643647\n",
      "Accuracy: 0.8201204358906259\n",
      "Accuracy: 0.7489862038381476\n",
      "Accuracy: 0.8039289026227023\n",
      "Accuracy: 0.7569081760701267\n",
      "Accuracy: 0.6608582035462947\n",
      "Accuracy: 0.7423473218735905\n",
      "Accuracy: 0.8428043809669418\n",
      "Accuracy: 0.8855632723964892\n",
      "Accuracy: 0.7857737900949415\n",
      "Accuracy: 0.9206917350413268\n"
     ]
    }
   ],
   "source": [
    "best = 0\n",
    "for _ in range(20):\n",
    "    x_train, x_test, y_train, y_test = sklearn.model_selection.train_test_split(x, y, test_size=0.1)\n",
    "\n",
    "    linear = linear_model.LinearRegression()\n",
    "\n",
    "    linear.fit(x_train, y_train)\n",
    "    acc = linear.score(x_test, y_test)\n",
    "    print(\"Accuracy: \" + str(acc))\n",
    "\n",
    "    if acc > best:\n",
    "        best = acc\n",
    "        with open(\"studentgrades.pickle\", \"wb\") as f:\n",
    "            pickle.dump(linear, f)"
   ]
  },
  {
   "cell_type": "code",
   "execution_count": 6,
   "metadata": {},
   "outputs": [
    {
     "name": "stdout",
     "output_type": "stream",
     "text": [
      "-------------------------\n",
      "Coefficient: \n",
      " [ 0.15828695  0.96921156  0.0366213  -0.32016732 -0.20578357]\n",
      "Intercept: \n",
      " -1.4088705225572884\n",
      "-------------------------\n",
      "12.208298391061842 [12 12  8  0  1] 12\n",
      "11.88177560505262 [13 12  6  0  3] 12\n",
      "3.449390936556753 [6 5 0 1 3] 0\n",
      "11.021501491406205 [11 11 12  0  2] 11\n",
      "12.837042964600307 [13 13  0  0  2] 13\n",
      "5.109887247824458 [ 6  6 22  2  2] 4\n",
      "11.917470461371874 [11 12 10  0  2] 13\n",
      "11.334598606306658 [12 12  1  0  4] 12\n",
      "6.768592763729787 [6 8 0 1 1] 8\n",
      "6.871269797256517 [10  8  3  3  1] 7\n",
      "11.577003473785815 [12 12  2  0  3] 11\n",
      "11.929272228003255 [12 12  6  0  2] 12\n",
      "8.851548829049204 [10  9 10  0  2] 10\n",
      "8.984781253075216 [10  9 28  1  3] 9\n",
      "12.910285555759163 [13 13  2  0  2] 11\n",
      "14.136772625199859 [15 14  6  0  3] 14\n",
      "10.92251293203913 [10 11  8  0  1] 10\n",
      "12.341765811062889 [14 12  3  0  1] 12\n",
      "7.884289507172026 [6 9 4 1 1] 8\n",
      "18.900046860344702 [18 18  6  0  1] 18\n",
      "15.458252940541827 [15 15 10  0  2] 15\n",
      "-1.7837213232234428 [5 0 0 3 1] 0\n",
      "11.837520769124685 [13 11 40  1  3] 11\n",
      "13.47880530045544 [12 14  1  0  3] 15\n",
      "11.045105024668969 [13 11  4  0  2] 11\n",
      "5.294656408543837 [7 7 5 3 2] 7\n",
      "12.63125939270058 [13 13  0  0  3] 13\n",
      "10.13293106581401 [ 9 11  2  0  3] 11\n",
      "11.99071305253073 [11 12 12  0  2] 11\n",
      "10.787829516352799 [11 11  0  0  1] 10\n",
      "10.283819470389629 [12 10 14  0  2] 11\n",
      "12.772298269892165 [11 13 10  1  1] 13\n",
      "10.077109459229726 [10 10 17  0  2] 10\n",
      "13.679332762927151 [13 13 23  0  2] 13\n",
      "6.230338853107684 [8 7 0 0 2] 8\n",
      "3.8065641606191294 [ 6  5 16  3  1] 5\n",
      "10.265472046554882 [ 9 11  0  0  2] 12\n",
      "14.933753035798455 [14 15  0  0  2] 15\n",
      "10.971862433510113 [13 11  2  0  2] 11\n",
      "18.70606505507636 [19 18  2  0  2] 18\n"
     ]
    }
   ],
   "source": [
    "pickle_in = open(\"studentgrades.pickle\", \"rb\")\n",
    "linear = pickle.load(pickle_in)\n",
    "\n",
    "\n",
    "print(\"-------------------------\")\n",
    "print('Coefficient: \\n', linear.coef_)\n",
    "print('Intercept: \\n', linear.intercept_)\n",
    "print(\"-------------------------\")\n",
    "\n",
    "predicted= linear.predict(x_test)\n",
    "for x in range(len(predicted)):\n",
    "    print(predicted[x], x_test[x], y_test[x])"
   ]
  },
  {
   "cell_type": "code",
   "execution_count": 7,
   "metadata": {},
   "outputs": [
    {
     "name": "stderr",
     "output_type": "stream",
     "text": [
      "No handles with labels found to put in legend.\n"
     ]
    },
    {
     "data": {
      "image/png": "[encoded data removed]",
      "text/plain": [
       "<Figure size 432x288 with 1 Axes>"
      ]
     },
     "metadata": {},
     "output_type": "display_data"
    }
   ],
   "source": [
    "plot = \"failures\"\n",
    "plt.scatter(data[plot], data[\"G3\"])\n",
    "plt.legend(loc=4)\n",
    "plt.xlabel(plot)\n",
    "plt.ylabel(\"Final Grade\")\n",
    "plt.show()"
   ]
  },
  {
   "cell_type": "code",
   "execution_count": null,
   "metadata": {},
   "outputs": [],
   "source": []
  }
 ],
 "metadata": {
  "kernelspec": {
   "display_name": "Python 3",
   "language": "python",
   "name": "python3"
  },
  "language_info": {
   "codemirror_mode": {
    "name": "ipython",
    "version": 3
   },
   "file_extension": ".py",
   "mimetype": "text/x-python",
   "name": "python",
   "nbconvert_exporter": "python",
   "pygments_lexer": "ipython3",
   "version": "3.8.5"
  }
 },
 "nbformat": 4,
 "nbformat_minor": 4
}
