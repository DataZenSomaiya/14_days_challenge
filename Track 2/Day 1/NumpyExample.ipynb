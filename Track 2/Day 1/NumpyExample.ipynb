{
 "cells": [
  {
   "cell_type": "code",
   "execution_count": 9,
   "id": "ac76daa0",
   "metadata": {},
   "outputs": [
    {
     "data": {
      "text/plain": [
       "array([1.85, 1.75, 1.8 , 1.7 ])"
      ]
     },
     "execution_count": 9,
     "metadata": {},
     "output_type": "execute_result"
    }
   ],
   "source": [
    "height = [1.85, 1.75, 1.80, 1.70]\n",
    "height\n",
    "\n",
    "weight = [80.4, 85, 70, 74.6]\n",
    "weight\n",
    " \n",
    "import numpy as np\n",
    "np_height = np.array(height)\n",
    "np_height\n"
   ]
  },
  {
   "cell_type": "code",
   "execution_count": 7,
   "id": "a13d1637",
   "metadata": {},
   "outputs": [
    {
     "data": {
      "text/plain": [
       "array([80.4, 85. , 70. , 74.6])"
      ]
     },
     "execution_count": 7,
     "metadata": {},
     "output_type": "execute_result"
    }
   ],
   "source": [
    "np_weight = np.array(weight)\n",
    "np_weight"
   ]
  },
  {
   "cell_type": "code",
   "execution_count": 8,
   "id": "71eb420e",
   "metadata": {},
   "outputs": [
    {
     "data": {
      "text/plain": [
       "array([23.49159971, 27.75510204, 21.60493827, 25.81314879])"
      ]
     },
     "execution_count": 8,
     "metadata": {},
     "output_type": "execute_result"
    }
   ],
   "source": [
    "bmi = np_weight/(np_height**2)\n",
    "bmi"
   ]
  },
  {
   "cell_type": "code",
   "execution_count": 13,
   "id": "bbcabb51",
   "metadata": {},
   "outputs": [
    {
     "data": {
      "text/plain": [
       "array([False,  True, False,  True])"
      ]
     },
     "execution_count": 13,
     "metadata": {},
     "output_type": "execute_result"
    }
   ],
   "source": [
    "bmi>25"
   ]
  },
  {
   "cell_type": "code",
   "execution_count": 12,
   "id": "2a61f992",
   "metadata": {},
   "outputs": [
    {
     "data": {
      "text/plain": [
       "array([27.75510204, 25.81314879])"
      ]
     },
     "execution_count": 12,
     "metadata": {},
     "output_type": "execute_result"
    }
   ],
   "source": [
    "bmi[bmi>25]"
   ]
  },
  {
   "cell_type": "code",
   "execution_count": null,
   "id": "a39dc9d8",
   "metadata": {},
   "outputs": [],
   "source": []
  }
 ],
 "metadata": {
  "kernelspec": {
   "display_name": "Python 3 (ipykernel)",
   "language": "python",
   "name": "python3"
  },
  "language_info": {
   "codemirror_mode": {
    "name": "ipython",
    "version": 3
   },
   "file_extension": ".py",
   "mimetype": "text/x-python",
   "name": "python",
   "nbconvert_exporter": "python",
   "pygments_lexer": "ipython3",
   "version": "3.9.7"
  }
 },
 "nbformat": 4,
 "nbformat_minor": 5
}
