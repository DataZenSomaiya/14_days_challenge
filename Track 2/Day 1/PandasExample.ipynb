{
 "cells": [
  {
   "cell_type": "code",
   "execution_count": 27,
   "id": "179b52d3",
   "metadata": {},
   "outputs": [
    {
     "name": "stdout",
     "output_type": "stream",
     "text": [
      "            Date         Open         High          Low        Close  \\\n",
      "0     19-08-2004    49.813290    51.835709    47.800831    49.982655   \n",
      "1     20-08-2004    50.316402    54.336334    50.062355    53.952770   \n",
      "2     23-08-2004    55.168217    56.528118    54.321388    54.495735   \n",
      "3     24-08-2004    55.412300    55.591629    51.591621    52.239197   \n",
      "4     25-08-2004    52.284027    53.798351    51.746044    52.802086   \n",
      "...          ...          ...          ...          ...          ...   \n",
      "4364  17-12-2021  2854.290039  2889.201904  2835.760010  2856.060059   \n",
      "4365  20-12-2021  2813.592041  2852.209961  2805.000000  2848.030029   \n",
      "4366  21-12-2021  2863.000000  2893.841064  2834.699951  2884.409912   \n",
      "4367  22-12-2021  2882.000000  2946.060059  2879.260010  2938.979980   \n",
      "4368  23-12-2021  2941.790039  2971.451904  2939.017090  2942.850098   \n",
      "\n",
      "        Adj Close    Volume  \n",
      "0       49.982655  44871361  \n",
      "1       53.952770  22942874  \n",
      "2       54.495735  18342897  \n",
      "3       52.239197  15319808  \n",
      "4       52.802086   9232276  \n",
      "...           ...       ...  \n",
      "4364  2856.060059   2162800  \n",
      "4365  2848.030029   1013200  \n",
      "4366  2884.409912    977400  \n",
      "4367  2938.979980    921900  \n",
      "4368  2942.850098    690300  \n",
      "\n",
      "[4369 rows x 7 columns]\n"
     ]
    }
   ],
   "source": [
    "import numpy as np\n",
    "import pandas as pd\n",
    "import matplotlib.pyplot as plt\n",
    "import statistics\n",
    "\n",
    "\n",
    "Stocks = pd.read_csv(r'C:\\Users\\jain4\\OneDrive\\Desktop\\Excel\\CSV\\GOOG.csv')\n",
    "pd.options.display.max_rows = 10\n",
    "pd.options.display.min_rows = 10\n",
    "pd.set_option(\"display.max_columns\", None)\n",
    "\n",
    "print(Stocks)"
   ]
  },
  {
   "cell_type": "code",
   "execution_count": 28,
   "id": "e3331f55",
   "metadata": {},
   "outputs": [
    {
     "name": "stdout",
     "output_type": "stream",
     "text": [
      "<class 'pandas.core.frame.DataFrame'>\n",
      "RangeIndex: 4369 entries, 0 to 4368\n",
      "Data columns (total 7 columns):\n",
      " #   Column     Non-Null Count  Dtype  \n",
      "---  ------     --------------  -----  \n",
      " 0   Date       4369 non-null   object \n",
      " 1   Open       4369 non-null   float64\n",
      " 2   High       4369 non-null   float64\n",
      " 3   Low        4369 non-null   float64\n",
      " 4   Close      4369 non-null   float64\n",
      " 5   Adj Close  4369 non-null   float64\n",
      " 6   Volume     4369 non-null   int64  \n",
      "dtypes: float64(5), int64(1), object(1)\n",
      "memory usage: 239.1+ KB\n"
     ]
    }
   ],
   "source": [
    "Stocks.info()"
   ]
  },
  {
   "cell_type": "code",
   "execution_count": 29,
   "id": "8c69d069",
   "metadata": {},
   "outputs": [
    {
     "data": {
      "image/png": "[encoded data removed]",
      "text/plain": [
       "<Figure size 432x288 with 1 Axes>"
      ]
     },
     "metadata": {
      "needs_background": "light"
     },
     "output_type": "display_data"
    }
   ],
   "source": [
    "Stocks.plot(x=\"Date\",y=\"High\",kind=\"line\")\n",
    "plt.show() "
   ]
  },
  {
   "cell_type": "code",
   "execution_count": null,
   "id": "6a046f1e",
   "metadata": {},
   "outputs": [],
   "source": []
  }
 ],
 "metadata": {
  "kernelspec": {
   "display_name": "Python 3 (ipykernel)",
   "language": "python",
   "name": "python3"
  },
  "language_info": {
   "codemirror_mode": {
    "name": "ipython",
    "version": 3
   },
   "file_extension": ".py",
   "mimetype": "text/x-python",
   "name": "python",
   "nbconvert_exporter": "python",
   "pygments_lexer": "ipython3",
   "version": "3.9.7"
  }
 },
 "nbformat": 4,
 "nbformat_minor": 5
}
