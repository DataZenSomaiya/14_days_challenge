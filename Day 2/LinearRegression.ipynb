{
 "cells": [
  {
   "cell_type": "code",
   "execution_count": 2,
   "id": "5d1d6e6d-1f15-4e82-81c2-04048d449d6b",
   "metadata": {},
   "outputs": [
    {
     "data": {
      "text/html": [
       "<div>\n",
       "<style scoped>\n",
       "    .dataframe tbody tr th:only-of-type {\n",
       "        vertical-align: middle;\n",
       "    }\n",
       "\n",
       "    .dataframe tbody tr th {\n",
       "        vertical-align: top;\n",
       "    }\n",
       "\n",
       "    .dataframe thead th {\n",
       "        text-align: right;\n",
       "    }\n",
       "</style>\n",
       "<table border=\"1\" class=\"dataframe\">\n",
       "  <thead>\n",
       "    <tr style=\"text-align: right;\">\n",
       "      <th></th>\n",
       "      <th>CRIM</th>\n",
       "      <th>ZN</th>\n",
       "      <th>INDUS</th>\n",
       "      <th>CHAS</th>\n",
       "      <th>NOX</th>\n",
       "      <th>RM</th>\n",
       "      <th>AGE</th>\n",
       "      <th>DIS</th>\n",
       "      <th>RAD</th>\n",
       "      <th>TAX</th>\n",
       "      <th>PTRATIO</th>\n",
       "      <th>B</th>\n",
       "      <th>LSTAT</th>\n",
       "      <th>MEDV</th>\n",
       "    </tr>\n",
       "  </thead>\n",
       "  <tbody>\n",
       "    <tr>\n",
       "      <th>0</th>\n",
       "      <td>0.00632</td>\n",
       "      <td>18.0</td>\n",
       "      <td>2.31</td>\n",
       "      <td>0.0</td>\n",
       "      <td>0.538</td>\n",
       "      <td>6.575</td>\n",
       "      <td>65.2</td>\n",
       "      <td>4.0900</td>\n",
       "      <td>1</td>\n",
       "      <td>296</td>\n",
       "      <td>15.3</td>\n",
       "      <td>396.90</td>\n",
       "      <td>4.98</td>\n",
       "      <td>24.0</td>\n",
       "    </tr>\n",
       "    <tr>\n",
       "      <th>1</th>\n",
       "      <td>0.02731</td>\n",
       "      <td>0.0</td>\n",
       "      <td>7.07</td>\n",
       "      <td>0.0</td>\n",
       "      <td>0.469</td>\n",
       "      <td>6.421</td>\n",
       "      <td>78.9</td>\n",
       "      <td>4.9671</td>\n",
       "      <td>2</td>\n",
       "      <td>242</td>\n",
       "      <td>17.8</td>\n",
       "      <td>396.90</td>\n",
       "      <td>9.14</td>\n",
       "      <td>21.6</td>\n",
       "    </tr>\n",
       "    <tr>\n",
       "      <th>2</th>\n",
       "      <td>0.02729</td>\n",
       "      <td>0.0</td>\n",
       "      <td>7.07</td>\n",
       "      <td>0.0</td>\n",
       "      <td>0.469</td>\n",
       "      <td>7.185</td>\n",
       "      <td>61.1</td>\n",
       "      <td>4.9671</td>\n",
       "      <td>2</td>\n",
       "      <td>242</td>\n",
       "      <td>17.8</td>\n",
       "      <td>392.83</td>\n",
       "      <td>4.03</td>\n",
       "      <td>34.7</td>\n",
       "    </tr>\n",
       "    <tr>\n",
       "      <th>3</th>\n",
       "      <td>0.03237</td>\n",
       "      <td>0.0</td>\n",
       "      <td>2.18</td>\n",
       "      <td>0.0</td>\n",
       "      <td>0.458</td>\n",
       "      <td>6.998</td>\n",
       "      <td>45.8</td>\n",
       "      <td>6.0622</td>\n",
       "      <td>3</td>\n",
       "      <td>222</td>\n",
       "      <td>18.7</td>\n",
       "      <td>394.63</td>\n",
       "      <td>2.94</td>\n",
       "      <td>33.4</td>\n",
       "    </tr>\n",
       "    <tr>\n",
       "      <th>4</th>\n",
       "      <td>0.06905</td>\n",
       "      <td>0.0</td>\n",
       "      <td>2.18</td>\n",
       "      <td>0.0</td>\n",
       "      <td>0.458</td>\n",
       "      <td>7.147</td>\n",
       "      <td>54.2</td>\n",
       "      <td>6.0622</td>\n",
       "      <td>3</td>\n",
       "      <td>222</td>\n",
       "      <td>18.7</td>\n",
       "      <td>396.90</td>\n",
       "      <td>NaN</td>\n",
       "      <td>36.2</td>\n",
       "    </tr>\n",
       "  </tbody>\n",
       "</table>\n",
       "</div>"
      ],
      "text/plain": [
       "      CRIM    ZN  INDUS  CHAS    NOX     RM   AGE     DIS  RAD  TAX  PTRATIO  \\\n",
       "0  0.00632  18.0   2.31   0.0  0.538  6.575  65.2  4.0900    1  296     15.3   \n",
       "1  0.02731   0.0   7.07   0.0  0.469  6.421  78.9  4.9671    2  242     17.8   \n",
       "2  0.02729   0.0   7.07   0.0  0.469  7.185  61.1  4.9671    2  242     17.8   \n",
       "3  0.03237   0.0   2.18   0.0  0.458  6.998  45.8  6.0622    3  222     18.7   \n",
       "4  0.06905   0.0   2.18   0.0  0.458  7.147  54.2  6.0622    3  222     18.7   \n",
       "\n",
       "        B  LSTAT  MEDV  \n",
       "0  396.90   4.98  24.0  \n",
       "1  396.90   9.14  21.6  \n",
       "2  392.83   4.03  34.7  \n",
       "3  394.63   2.94  33.4  \n",
       "4  396.90    NaN  36.2  "
      ]
     },
     "execution_count": 2,
     "metadata": {},
     "output_type": "execute_result"
    }
   ],
   "source": [
    "import pandas as pd\n",
    "import numpy as np\n",
    "\n",
    "df = pd.read_csv('https://raw.githubusercontent.com/SushantSawant22/14_days_challenge/main/Track%202/Day%202/HousingData%20(1).csv')\n",
    "df.head()"
   ]
  },
  {
   "cell_type": "code",
   "execution_count": 5,
   "id": "78277c9a-ec73-4857-9cf4-4972158b3d5f",
   "metadata": {},
   "outputs": [
    {
     "data": {
      "text/plain": [
       "CRIM       20\n",
       "ZN         20\n",
       "INDUS      20\n",
       "CHAS       20\n",
       "NOX         0\n",
       "RM          0\n",
       "AGE        20\n",
       "DIS         0\n",
       "RAD         0\n",
       "TAX         0\n",
       "PTRATIO     0\n",
       "B           0\n",
       "LSTAT      20\n",
       "MEDV        0\n",
       "dtype: int64"
      ]
     },
     "execution_count": 5,
     "metadata": {},
     "output_type": "execute_result"
    }
   ],
   "source": [
    "#To Check Null values in dataset\n",
    "df.isnull().sum()"
   ]
  },
  {
   "cell_type": "code",
   "execution_count": 6,
   "id": "8edac3f7-e685-4198-9723-f6bcd4079163",
   "metadata": {},
   "outputs": [],
   "source": [
    "#To drop Null Values from dataset\n",
    "df=df.dropna()"
   ]
  },
  {
   "cell_type": "code",
   "execution_count": 7,
   "id": "0f02cd4f-39fe-4550-9229-0d1e9e08f91c",
   "metadata": {},
   "outputs": [
    {
     "data": {
      "text/plain": [
       "CRIM       0\n",
       "ZN         0\n",
       "INDUS      0\n",
       "CHAS       0\n",
       "NOX        0\n",
       "RM         0\n",
       "AGE        0\n",
       "DIS        0\n",
       "RAD        0\n",
       "TAX        0\n",
       "PTRATIO    0\n",
       "B          0\n",
       "LSTAT      0\n",
       "MEDV       0\n",
       "dtype: int64"
      ]
     },
     "execution_count": 7,
     "metadata": {},
     "output_type": "execute_result"
    }
   ],
   "source": [
    "df.isnull().sum()"
   ]
  },
  {
   "cell_type": "code",
   "execution_count": 8,
   "id": "045193ac-4858-4e55-8c3f-6dff6fafae07",
   "metadata": {},
   "outputs": [
    {
     "data": {
      "text/html": [
       "<div>\n",
       "<style scoped>\n",
       "    .dataframe tbody tr th:only-of-type {\n",
       "        vertical-align: middle;\n",
       "    }\n",
       "\n",
       "    .dataframe tbody tr th {\n",
       "        vertical-align: top;\n",
       "    }\n",
       "\n",
       "    .dataframe thead th {\n",
       "        text-align: right;\n",
       "    }\n",
       "</style>\n",
       "<table border=\"1\" class=\"dataframe\">\n",
       "  <thead>\n",
       "    <tr style=\"text-align: right;\">\n",
       "      <th></th>\n",
       "      <th>LSTAT</th>\n",
       "      <th>MEDV</th>\n",
       "    </tr>\n",
       "  </thead>\n",
       "  <tbody>\n",
       "    <tr>\n",
       "      <th>0</th>\n",
       "      <td>4.98</td>\n",
       "      <td>24.0</td>\n",
       "    </tr>\n",
       "    <tr>\n",
       "      <th>1</th>\n",
       "      <td>9.14</td>\n",
       "      <td>21.6</td>\n",
       "    </tr>\n",
       "    <tr>\n",
       "      <th>2</th>\n",
       "      <td>4.03</td>\n",
       "      <td>34.7</td>\n",
       "    </tr>\n",
       "    <tr>\n",
       "      <th>3</th>\n",
       "      <td>2.94</td>\n",
       "      <td>33.4</td>\n",
       "    </tr>\n",
       "    <tr>\n",
       "      <th>5</th>\n",
       "      <td>5.21</td>\n",
       "      <td>28.7</td>\n",
       "    </tr>\n",
       "    <tr>\n",
       "      <th>7</th>\n",
       "      <td>19.15</td>\n",
       "      <td>27.1</td>\n",
       "    </tr>\n",
       "    <tr>\n",
       "      <th>8</th>\n",
       "      <td>29.93</td>\n",
       "      <td>16.5</td>\n",
       "    </tr>\n",
       "    <tr>\n",
       "      <th>10</th>\n",
       "      <td>20.45</td>\n",
       "      <td>15.0</td>\n",
       "    </tr>\n",
       "    <tr>\n",
       "      <th>11</th>\n",
       "      <td>13.27</td>\n",
       "      <td>18.9</td>\n",
       "    </tr>\n",
       "    <tr>\n",
       "      <th>12</th>\n",
       "      <td>15.71</td>\n",
       "      <td>21.7</td>\n",
       "    </tr>\n",
       "  </tbody>\n",
       "</table>\n",
       "</div>"
      ],
      "text/plain": [
       "    LSTAT  MEDV\n",
       "0    4.98  24.0\n",
       "1    9.14  21.6\n",
       "2    4.03  34.7\n",
       "3    2.94  33.4\n",
       "5    5.21  28.7\n",
       "7   19.15  27.1\n",
       "8   29.93  16.5\n",
       "10  20.45  15.0\n",
       "11  13.27  18.9\n",
       "12  15.71  21.7"
      ]
     },
     "execution_count": 8,
     "metadata": {},
     "output_type": "execute_result"
    }
   ],
   "source": [
    "#Checking for dependent and Independent variables\n",
    "data = df.loc[:,['LSTAT','MEDV']]\n",
    "data.head(10)"
   ]
  },
  {
   "cell_type": "code",
   "execution_count": 14,
   "id": "195f6326-61e0-4267-9a84-0b70bf365339",
   "metadata": {},
   "outputs": [
    {
     "data": {
      "image/png": "[encoded data removed]",
      "text/plain": [
       "<Figure size 432x288 with 1 Axes>"
      ]
     },
     "metadata": {
      "needs_background": "light"
     },
     "output_type": "display_data"
    }
   ],
   "source": [
    "#Visualizing the Change in Variable\n",
    "import matplotlib.pyplot as plt\n",
    "data.plot(x='LSTAT',y='MEDV',style='o')\n",
    "plt.xlabel('LSTAT')\n",
    "plt.ylabel('MEDV')\n",
    "plt.show()"
   ]
  },
  {
   "cell_type": "code",
   "execution_count": 16,
   "id": "68977917-9787-4fe5-8ed8-cc4f2e338e5a",
   "metadata": {},
   "outputs": [],
   "source": [
    "#Dividing the data into individual variables\n",
    "X = pd.DataFrame(df['LSTAT'])\n",
    "Y = pd.DataFrame(df['MEDV'])"
   ]
  },
  {
   "cell_type": "code",
   "execution_count": 17,
   "id": "2b2aa415-90e0-4c2a-9b3b-e39b3ba41ad8",
   "metadata": {},
   "outputs": [],
   "source": [
    "#Spliting data into 4 parts (x_train,x_test,y_train,y_test)\n",
    "from sklearn.model_selection import train_test_split\n",
    "\n",
    "X_train,X_test,Y_train,Y_test = train_test_split(X,Y,test_size=0.3,random_state=1)"
   ]
  },
  {
   "cell_type": "code",
   "execution_count": 19,
   "id": "fa0ac3c1-de7d-4b2f-9c9e-402b8644c0a0",
   "metadata": {},
   "outputs": [
    {
     "name": "stdout",
     "output_type": "stream",
     "text": [
      "(275, 1)\n",
      "(119, 1)\n",
      "(275, 1)\n",
      "(119, 1)\n"
     ]
    }
   ],
   "source": [
    "#Checking shape of 4 data sets\n",
    "print(X_train.shape)\n",
    "print(X_test.shape)\n",
    "print(Y_train.shape)\n",
    "print(Y_test.shape)"
   ]
  },
  {
   "cell_type": "code",
   "execution_count": 24,
   "id": "c9fe8159-6664-4eab-b768-0ebda28448fc",
   "metadata": {},
   "outputs": [
    {
     "data": {
      "text/plain": [
       "LinearRegression()"
      ]
     },
     "execution_count": 24,
     "metadata": {},
     "output_type": "execute_result"
    }
   ],
   "source": [
    "#Linear Regression Algorithm Training the data starts\n",
    "from sklearn.linear_model import LinearRegression\n",
    "from sklearn.metrics import mean_squared_error\n",
    "regressor= LinearRegression()\n",
    "regressor.fit(X_train,Y_train)\n"
   ]
  },
  {
   "cell_type": "code",
   "execution_count": 30,
   "id": "22005412-e75a-42f6-8212-2fd8c95000e2",
   "metadata": {},
   "outputs": [
    {
     "name": "stdout",
     "output_type": "stream",
     "text": [
      "[34.944997]\n"
     ]
    }
   ],
   "source": [
    "#It is used to find y intercept i.e. c of equation y=mx+c\n",
    "print(regressor.intercept_)"
   ]
  },
  {
   "cell_type": "code",
   "execution_count": 31,
   "id": "f5ebd58d-bb9c-424b-9357-5ee784ec9818",
   "metadata": {},
   "outputs": [
    {
     "name": "stdout",
     "output_type": "stream",
     "text": [
      "[[-1.00135706]]\n"
     ]
    }
   ],
   "source": [
    "#It is used to find slope i.e. m of equation y=mx+c\n",
    "print(regressor.coef_)"
   ]
  },
  {
   "cell_type": "code",
   "execution_count": 32,
   "id": "71a26f84-8e16-4e27-aa93-b1f36580ec5b",
   "metadata": {},
   "outputs": [
    {
     "name": "stdout",
     "output_type": "stream",
     "text": [
      "The performance of Training model is \n",
      "6.009611655189927\n"
     ]
    }
   ],
   "source": [
    "#Evaluating our model using RMSE\n",
    "Y_train_predict = regressor.predict(X_train)\n",
    "rmse = (np.sqrt(mean_squared_error(Y_train,Y_train_predict)))\n",
    "print(\"The performance of Training model is \")\n",
    "print(rmse)"
   ]
  },
  {
   "cell_type": "code",
   "execution_count": 33,
   "id": "3113d9ea-8938-4836-9217-57c0a2874c46",
   "metadata": {},
   "outputs": [
    {
     "name": "stdout",
     "output_type": "stream",
     "text": [
      "The performance of Training model is \n",
      "6.407194718831085\n"
     ]
    }
   ],
   "source": [
    "Y_test_predict = regressor.predict(X_test)\n",
    "rmse = (np.sqrt(mean_squared_error(Y_test,Y_test_predict)))\n",
    "print(\"The performance of Training model is \")\n",
    "print(rmse)"
   ]
  },
  {
   "cell_type": "code",
   "execution_count": 34,
   "id": "8669b4a8-016e-43ed-88a8-07fd901dfbbc",
   "metadata": {},
   "outputs": [
    {
     "name": "stdout",
     "output_type": "stream",
     "text": [
      "[[23.58960797]\n",
      " [25.42209139]\n",
      " [15.90919935]\n",
      " [ 8.48914355]\n",
      " [27.49490049]\n",
      " [31.40019302]\n",
      " [28.72656967]\n",
      " [22.65834591]\n",
      " [28.28597257]\n",
      " [20.8258625 ]\n",
      " [17.65156063]\n",
      " [24.96146714]\n",
      " [11.64341828]\n",
      " [31.7807087 ]\n",
      " [16.23964718]\n",
      " [29.72792673]\n",
      " [20.28512968]\n",
      " [29.74795387]\n",
      " [ 4.97438029]\n",
      " [26.28325846]\n",
      " [25.48217281]\n",
      " [23.28920086]\n",
      " [ 5.6152488 ]\n",
      " [27.5950362 ]\n",
      " [15.76900936]\n",
      " [ 7.52784078]\n",
      " [22.49812878]\n",
      " [ 4.09318608]\n",
      " [29.2973432 ]\n",
      " [24.96146714]\n",
      " [17.13085496]\n",
      " [18.89324338]\n",
      " [29.64781817]\n",
      " [17.3211128 ]\n",
      " [31.38016588]\n",
      " [17.00067854]\n",
      " [32.06108867]\n",
      " [14.99796442]\n",
      " [28.00559259]\n",
      " [16.19959289]\n",
      " [30.19856455]\n",
      " [29.41750604]\n",
      " [13.46588813]\n",
      " [19.8044783 ]\n",
      " [19.53411189]\n",
      " [31.12982661]\n",
      " [16.99066497]\n",
      " [28.94686823]\n",
      " [25.41207782]\n",
      " [19.37389476]\n",
      " [24.66106002]\n",
      " [31.41020659]\n",
      " [27.54496835]\n",
      " [25.85267492]\n",
      " [17.7617099 ]\n",
      " [25.00152142]\n",
      " [ 9.23014778]\n",
      " [21.0962289 ]\n",
      " [13.59606454]\n",
      " [16.79039356]\n",
      " [-3.07653045]\n",
      " [28.18583686]\n",
      " [30.48895809]\n",
      " [27.23454766]\n",
      " [30.08841527]\n",
      " [28.66648825]\n",
      " [ 0.12781213]\n",
      " [26.46350273]\n",
      " [13.67617311]\n",
      " [18.72301268]\n",
      " [27.03427625]\n",
      " [28.35606756]\n",
      " [19.904614  ]\n",
      " [24.57093789]\n",
      " [17.64154705]\n",
      " [13.1354403 ]\n",
      " [20.25508897]\n",
      " [16.25967432]\n",
      " [25.05158928]\n",
      " [10.93245477]\n",
      " [27.56499549]\n",
      " [20.23506183]\n",
      " [ 8.13866858]\n",
      " [16.20960646]\n",
      " [24.7712093 ]\n",
      " [27.14442552]\n",
      " [19.2236912 ]\n",
      " [17.71164205]\n",
      " [28.50627112]\n",
      " [ 0.52835495]\n",
      " [30.72928379]\n",
      " [18.63289054]\n",
      " [25.24184712]\n",
      " [21.88730098]\n",
      " [18.45264627]\n",
      " [17.80176418]\n",
      " [22.06754525]\n",
      " [ 5.22471955]\n",
      " [ 4.31348463]\n",
      " [28.57636612]\n",
      " [16.58010857]\n",
      " [24.48081575]\n",
      " [24.48081575]\n",
      " [27.40477836]\n",
      " [ 0.48830067]\n",
      " [20.9259982 ]\n",
      " [24.74116859]\n",
      " [22.19772166]\n",
      " [20.77579464]\n",
      " [31.83077655]\n",
      " [24.51085646]\n",
      " [16.86048855]\n",
      " [18.48268698]\n",
      " [26.14306847]\n",
      " [28.35606756]\n",
      " [16.15953861]\n",
      " [11.82366255]\n",
      " [20.83587607]\n",
      " [15.22827655]]\n"
     ]
    }
   ],
   "source": [
    "print(Y_test_predict)"
   ]
  },
  {
   "cell_type": "code",
   "execution_count": null,
   "id": "760948af-7681-4283-ab90-9fb73d51f280",
   "metadata": {},
   "outputs": [],
   "source": []
  }
 ],
 "metadata": {
  "kernelspec": {
   "display_name": "Python 3 (ipykernel)",
   "language": "python",
   "name": "python3"
  },
  "language_info": {
   "codemirror_mode": {
    "name": "ipython",
    "version": 3
   },
   "file_extension": ".py",
   "mimetype": "text/x-python",
   "name": "python",
   "nbconvert_exporter": "python",
   "pygments_lexer": "ipython3",
   "version": "3.9.6"
  }
 },
 "nbformat": 4,
 "nbformat_minor": 5
}
