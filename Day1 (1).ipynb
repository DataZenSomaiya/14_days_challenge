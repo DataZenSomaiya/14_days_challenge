{
 "cells": [
  {
   "cell_type": "code",
   "execution_count": 1,
   "id": "520928ca",
   "metadata": {},
   "outputs": [],
   "source": [
    "import pandas as pd\n",
    "import numpy as np"
   ]
  },
  {
   "cell_type": "code",
   "execution_count": 3,
   "id": "d3123237",
   "metadata": {},
   "outputs": [
    {
     "name": "stdout",
     "output_type": "stream",
     "text": [
      "     name age  score\n",
      "0   Divya  17    9.8\n",
      "1  Mayank  18    7.7\n",
      "2  Sumeet  18    9.8\n",
      "3  Paavan  19    9.0\n"
     ]
    }
   ],
   "source": [
    "## 1 Creating  a DataFrame\n",
    "data = {'name': ['Divya', 'Mayank', 'Sumeet', 'Paavan'],\n",
    "        'age': ['17', '18', '18', '19'],\n",
    "        'score': [9.8, 7.7, 9.8, 9]}\n",
    "\n",
    "df = pd.DataFrame(data)\n",
    "\n",
    "## Parameters ##\n",
    "## Data: ndarray (structured or homogenous), Iterable, dict, or DataFrame.\n",
    "## index: The index (row labels)of the DataFrame.\n",
    "## columns: The column labels of the DataFrame.\n",
    "## dtype\n",
    "## copy\n",
    "\n",
    "print(df)"
   ]
  },
  {
   "cell_type": "code",
   "execution_count": null,
   "id": "3e811461",
   "metadata": {},
   "outputs": [],
   "source": []
  }
 ],
 "metadata": {
  "kernelspec": {
   "display_name": "Python 3 (ipykernel)",
   "language": "python",
   "name": "python3"
  },
  "language_info": {
   "codemirror_mode": {
    "name": "ipython",
    "version": 3
   },
   "file_extension": ".py",
   "mimetype": "text/x-python",
   "name": "python",
   "nbconvert_exporter": "python",
   "pygments_lexer": "ipython3",
   "version": "3.9.12"
  }
 },
 "nbformat": 4,
 "nbformat_minor": 5
}
